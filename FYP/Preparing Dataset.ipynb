{
 "cells": [
  {
   "cell_type": "code",
   "execution_count": 9,
   "id": "782f8f38-0bac-4d23-80b7-ba38394fdc6b",
   "metadata": {},
   "outputs": [],
   "source": [
    "import os\n",
    "import shutil\n",
    "import random\n",
    "from osgeo import gdal\n",
    "import random"
   ]
  },
  {
   "cell_type": "code",
   "execution_count": 14,
   "id": "9d920193-2e21-4b0d-b383-8e3f4b888318",
   "metadata": {},
   "outputs": [],
   "source": [
    "# Set the path to the datasets directory\n",
    "# path = \"C:/Users/isaac/datasets/eurosat-dataset-tif\"\n",
    "path = \"C:/Users/isaac/datasets/eurosat-dataset-jpg\"\n",
    "SEED = random.seed(123)"
   ]
  },
  {
   "cell_type": "code",
   "execution_count": 16,
   "id": "41d8367c-666b-4282-9421-a7f433896659",
   "metadata": {},
   "outputs": [
    {
     "name": "stdout",
     "output_type": "stream",
     "text": [
      "['AnnualCrop', 'Forest', 'HerbaceousVegetation', 'Highway', 'Industrial', 'Pasture', 'PermanentCrop', 'Residential', 'River', 'SeaLake']\n"
     ]
    }
   ],
   "source": [
    "# Initialize lists\n",
    "categories = []\n",
    "tif_files = []\n",
    "\n",
    "# Walk through the directory tree starting from the specified path\n",
    "for dirpath, dirnames, filenames in os.walk(path):\n",
    "    categories.extend(dirnames)\n",
    "    for filename in filenames:\n",
    "        if filename.endswith('.tif'):\n",
    "            tif_files.append(os.path.join(dirpath, filename))\n",
    "\n",
    "print(categories)"
   ]
  },
  {
   "cell_type": "code",
   "execution_count": 17,
   "id": "edf3695c-7ccb-49ec-8354-eb80d9db1a7f",
   "metadata": {},
   "outputs": [
    {
     "name": "stdout",
     "output_type": "stream",
     "text": [
      "Reduction of images in each category by 50% completed.\n"
     ]
    }
   ],
   "source": [
    "# Reduce the number of images in each category by 50% for reducing load times and process times\n",
    "for category in categories:\n",
    "    category_path = os.path.join(path, category)\n",
    "    category_files = [file for file in tif_files if file.startswith(category_path)]\n",
    "    \n",
    "    # If there are more than one files, reduce by 50%\n",
    "    if len(category_files) > 1:\n",
    "        num_files_to_keep = len(category_files) // 2\n",
    "        files_to_keep = random.sample(category_files, num_files_to_keep)\n",
    "        \n",
    "        # Remove the files that are not in the files_to_keep list\n",
    "        files_to_remove = set(category_files) - set(files_to_keep)\n",
    "        \n",
    "        for file_to_remove in files_to_remove:\n",
    "            os.remove(file_to_remove)\n",
    "            print(f\"Removed: {file_to_remove}\")\n",
    "\n",
    "print(\"Reduction of images in each category by 50% completed.\")"
   ]
  },
  {
   "cell_type": "code",
   "execution_count": 18,
   "id": "2cc293a2-4d7e-4792-9778-5e9bdbb49ed7",
   "metadata": {},
   "outputs": [
    {
     "name": "stdout",
     "output_type": "stream",
     "text": [
      "Created folder: C:/Users/isaac/datasets/eurosat-dataset-jpg\\land-use-jpeg\\train\n",
      "Created category folder: C:/Users/isaac/datasets/eurosat-dataset-jpg\\land-use-jpeg\\train\\AnnualCrop\n",
      "Created category folder: C:/Users/isaac/datasets/eurosat-dataset-jpg\\land-use-jpeg\\train\\Forest\n",
      "Created category folder: C:/Users/isaac/datasets/eurosat-dataset-jpg\\land-use-jpeg\\train\\HerbaceousVegetation\n",
      "Created category folder: C:/Users/isaac/datasets/eurosat-dataset-jpg\\land-use-jpeg\\train\\Highway\n",
      "Created category folder: C:/Users/isaac/datasets/eurosat-dataset-jpg\\land-use-jpeg\\train\\Industrial\n",
      "Created category folder: C:/Users/isaac/datasets/eurosat-dataset-jpg\\land-use-jpeg\\train\\Pasture\n",
      "Created category folder: C:/Users/isaac/datasets/eurosat-dataset-jpg\\land-use-jpeg\\train\\PermanentCrop\n",
      "Created category folder: C:/Users/isaac/datasets/eurosat-dataset-jpg\\land-use-jpeg\\train\\Residential\n",
      "Created category folder: C:/Users/isaac/datasets/eurosat-dataset-jpg\\land-use-jpeg\\train\\River\n",
      "Created category folder: C:/Users/isaac/datasets/eurosat-dataset-jpg\\land-use-jpeg\\train\\SeaLake\n",
      "Created folder: C:/Users/isaac/datasets/eurosat-dataset-jpg\\land-use-jpeg\\test\n",
      "Created category folder: C:/Users/isaac/datasets/eurosat-dataset-jpg\\land-use-jpeg\\test\\AnnualCrop\n",
      "Created category folder: C:/Users/isaac/datasets/eurosat-dataset-jpg\\land-use-jpeg\\test\\Forest\n",
      "Created category folder: C:/Users/isaac/datasets/eurosat-dataset-jpg\\land-use-jpeg\\test\\HerbaceousVegetation\n",
      "Created category folder: C:/Users/isaac/datasets/eurosat-dataset-jpg\\land-use-jpeg\\test\\Highway\n",
      "Created category folder: C:/Users/isaac/datasets/eurosat-dataset-jpg\\land-use-jpeg\\test\\Industrial\n",
      "Created category folder: C:/Users/isaac/datasets/eurosat-dataset-jpg\\land-use-jpeg\\test\\Pasture\n",
      "Created category folder: C:/Users/isaac/datasets/eurosat-dataset-jpg\\land-use-jpeg\\test\\PermanentCrop\n",
      "Created category folder: C:/Users/isaac/datasets/eurosat-dataset-jpg\\land-use-jpeg\\test\\Residential\n",
      "Created category folder: C:/Users/isaac/datasets/eurosat-dataset-jpg\\land-use-jpeg\\test\\River\n",
      "Created category folder: C:/Users/isaac/datasets/eurosat-dataset-jpg\\land-use-jpeg\\test\\SeaLake\n",
      "Created folder: C:/Users/isaac/datasets/eurosat-dataset-jpg\\land-use-jpeg\\valid\n",
      "Created category folder: C:/Users/isaac/datasets/eurosat-dataset-jpg\\land-use-jpeg\\valid\\AnnualCrop\n",
      "Created category folder: C:/Users/isaac/datasets/eurosat-dataset-jpg\\land-use-jpeg\\valid\\Forest\n",
      "Created category folder: C:/Users/isaac/datasets/eurosat-dataset-jpg\\land-use-jpeg\\valid\\HerbaceousVegetation\n",
      "Created category folder: C:/Users/isaac/datasets/eurosat-dataset-jpg\\land-use-jpeg\\valid\\Highway\n",
      "Created category folder: C:/Users/isaac/datasets/eurosat-dataset-jpg\\land-use-jpeg\\valid\\Industrial\n",
      "Created category folder: C:/Users/isaac/datasets/eurosat-dataset-jpg\\land-use-jpeg\\valid\\Pasture\n",
      "Created category folder: C:/Users/isaac/datasets/eurosat-dataset-jpg\\land-use-jpeg\\valid\\PermanentCrop\n",
      "Created category folder: C:/Users/isaac/datasets/eurosat-dataset-jpg\\land-use-jpeg\\valid\\Residential\n",
      "Created category folder: C:/Users/isaac/datasets/eurosat-dataset-jpg\\land-use-jpeg\\valid\\River\n",
      "Created category folder: C:/Users/isaac/datasets/eurosat-dataset-jpg\\land-use-jpeg\\valid\\SeaLake\n",
      "All folders created successfully.\n"
     ]
    }
   ],
   "source": [
    "# List of split names\n",
    "split_names = ['train', 'test', 'valid']\n",
    "\n",
    "# Create new folders for train, test, and valid sets with subfolders for all categories\n",
    "for sp_name in split_names:\n",
    "    directory = os.path.join(path, 'land-use-jpeg', sp_name)  # Path to the split folder\n",
    "    if not os.path.exists(directory):  # Check if the split folder doesn't exist\n",
    "        os.makedirs(directory)  # Create the split folder if it doesn't exist\n",
    "        print(f\"Created folder: {directory}\")\n",
    "    # Create category folders within each split\n",
    "    for category in categories:\n",
    "        dir_cat = os.path.join(directory, category)  # Path to the category folder within the split\n",
    "        if not os.path.exists(dir_cat):  # Check if the category folder doesn't exist\n",
    "            os.makedirs(dir_cat)  # Create the category folder if it doesn't exist\n",
    "            print(f\"Created category folder: {dir_cat}\")\n",
    "\n",
    "print(\"All folders created successfully.\")"
   ]
  },
  {
   "cell_type": "code",
   "execution_count": 19,
   "id": "d16c279c-7c94-404b-9563-9189795260e4",
   "metadata": {},
   "outputs": [
    {
     "name": "stderr",
     "output_type": "stream",
     "text": [
      "Converting AnnualCrop TIFFs: 100%|██████████| 3000/3000 [02:29<00:00, 20.03it/s]\n",
      "Converting Forest TIFFs: 100%|██████████| 3000/3000 [02:51<00:00, 17.47it/s]\n",
      "Converting HerbaceousVegetation TIFFs: 100%|██████████| 3000/3000 [03:02<00:00, 16.43it/s]\n",
      "Converting Highway TIFFs: 100%|██████████| 2500/2500 [02:06<00:00, 19.78it/s]\n",
      "Converting Industrial TIFFs: 100%|██████████| 2500/2500 [01:51<00:00, 22.48it/s]\n",
      "Converting Pasture TIFFs: 100%|██████████| 2000/2000 [01:29<00:00, 22.28it/s]\n",
      "Converting PermanentCrop TIFFs: 100%|██████████| 2500/2500 [01:43<00:00, 24.13it/s]\n",
      "Converting Residential TIFFs: 100%|██████████| 3000/3000 [02:03<00:00, 24.20it/s]\n",
      "Converting River TIFFs: 100%|██████████| 2500/2500 [01:56<00:00, 21.53it/s]\n",
      "Converting SeaLake TIFFs: 100%|██████████| 3000/3000 [02:12<00:00, 22.62it/s]\n"
     ]
    }
   ],
   "source": [
    "import os\n",
    "import shutil\n",
    "import random\n",
    "import subprocess\n",
    "from tqdm import tqdm  # Import tqdm for progress bar\n",
    "from osgeo import gdal\n",
    "\n",
    "# Function to convert TIFF to JPEG using GDAL\n",
    "def convert_tiff_to_jpeg(input_file, output_file, bands=[1, 2, 3]):\n",
    "    try:\n",
    "        # Construct the gdal_translate command\n",
    "        command = ['gdal_translate', '-of', 'JPEG']\n",
    "        for band in bands:\n",
    "            command.extend(['-b', str(band)])\n",
    "        command.extend(['-scale', input_file, output_file])\n",
    "        # Run the command\n",
    "        subprocess.run(command, check=True)\n",
    "    except subprocess.CalledProcessError as e:\n",
    "        print(f\"Error converting {input_file} to {output_file}: {e}\")\n",
    "        return False\n",
    "    return True\n",
    "\n",
    "# Iterate through each category\n",
    "for category in categories:\n",
    "    # Define directories for input TIFF files and output JPEG files\n",
    "    directory = os.path.join(path, category)  # Input TIFF directory\n",
    "    directory_train = os.path.join(path, 'land-use-jpeg', 'train', category)  # Output JPEG directory for training set\n",
    "    directory_valid = os.path.join(path, 'land-use-jpeg', 'test', category)  # Output JPEG directory for validation set\n",
    "    directory_test = os.path.join(path, 'land-use-jpeg', 'valid', category)  # Output JPEG directory for test set\n",
    "    \n",
    "    # Create output directories if they do not exist\n",
    "    os.makedirs(directory_train, exist_ok=True)\n",
    "    os.makedirs(directory_valid, exist_ok=True)\n",
    "    os.makedirs(directory_test, exist_ok=True)\n",
    "    \n",
    "    # List all files in the input TIFF directory\n",
    "    try:\n",
    "        cat_files = os.listdir(directory)\n",
    "    except FileNotFoundError:\n",
    "        continue  # Skip the category if the directory does not exist\n",
    "    \n",
    "    # Remove any unwanted files (e.g., .DS_Store)\n",
    "    if '.DS_Store' in cat_files:\n",
    "        cat_files.remove('.DS_Store')\n",
    "    \n",
    "    # Convert TIFF files to JPEG format and move them to the training directory\n",
    "    with tqdm(total=len(cat_files), desc=f'Converting {category} TIFFs') as pbar:  # Initialize tqdm progress bar\n",
    "        for file in cat_files:\n",
    "            file_no_ext = file.split('.')[0]  # Remove file extension\n",
    "            img_in = os.path.join(directory, file)  # Input TIFF file path\n",
    "            img_out = os.path.join(directory_train, file_no_ext + '.jpeg')  # Output JPEG file path\n",
    "                \n",
    "            # Check if the converted JPEG file already exists in the training directory\n",
    "            if not os.path.exists(img_out):\n",
    "                # Convert the TIFF to JPEG\n",
    "                success = convert_tiff_to_jpeg(img_in, img_out, bands=[1, 2, 3])\n",
    "                if not success:\n",
    "                    print(f\"Conversion failed for {img_in}\")\n",
    "            \n",
    "            pbar.update(1)  # Update progress bar\n",
    "    \n",
    "    # Remove any XML files that were generated during the conversion process\n",
    "    for item in os.listdir(directory_train):  # Iterate over files in the training directory\n",
    "        if item.endswith(\".xml\"):\n",
    "            os.remove(os.path.join(directory_train, item))  # Remove XML file\n",
    "                \n",
    "    # Sort files into test and validation folders\n",
    "    filenames = os.listdir(directory_train)  # List JPEG files in the training directory\n",
    "    filenames.sort()  # Sort filenames alphabetically\n",
    "    if '.DS_Store' in filenames:\n",
    "        filenames.remove('.DS_Store')\n",
    "        \n",
    "    random.shuffle(filenames)  # Shuffle filenames randomly\n",
    "    split_1 = int(0.8 * len(filenames))  # Split index for training-validation split\n",
    "    split_2 = int(0.9 * len(filenames))  # Split index for validation-test split\n",
    "    train_filenames = filenames[:split_1]  # Filenames for training set\n",
    "    valid_filenames = filenames[split_1:split_2]  # Filenames for validation set\n",
    "    test_filenames = filenames[split_2:]  # Filenames for test set\n",
    "        \n",
    "    for file in os.listdir(directory_train):\n",
    "        if file in valid_filenames:\n",
    "            shutil.move(os.path.join(directory_train, file), os.path.join(directory_valid, file))  # Move to validation directory\n",
    "        elif file in test_filenames:\n",
    "            shutil.move(os.path.join(directory_train, file), os.path.join(directory_test, file))  # Move to test directory\n"
   ]
  },
  {
   "cell_type": "code",
   "execution_count": null,
   "id": "0019a197-c288-4cba-8782-93093f19715c",
   "metadata": {},
   "outputs": [],
   "source": []
  }
 ],
 "metadata": {
  "kernelspec": {
   "display_name": "Python 3 (ipykernel)",
   "language": "python",
   "name": "python3"
  },
  "language_info": {
   "codemirror_mode": {
    "name": "ipython",
    "version": 3
   },
   "file_extension": ".py",
   "mimetype": "text/x-python",
   "name": "python",
   "nbconvert_exporter": "python",
   "pygments_lexer": "ipython3",
   "version": "3.11.7"
  }
 },
 "nbformat": 4,
 "nbformat_minor": 5
}
