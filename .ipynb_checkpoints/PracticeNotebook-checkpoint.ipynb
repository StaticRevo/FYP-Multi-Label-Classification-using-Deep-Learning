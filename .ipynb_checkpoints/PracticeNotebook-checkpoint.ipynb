{
 "cells": [
  {
   "cell_type": "code",
   "execution_count": 7,
   "id": "b93bebc8-2559-4f6f-902a-180c34b91e3a",
   "metadata": {},
   "outputs": [],
   "source": [
    "# Import Of Necessary Libraries"
   ]
  },
  {
   "cell_type": "code",
   "execution_count": 1,
   "id": "a783d7e1-b155-42b3-ba51-7b10f0a91eb6",
   "metadata": {},
   "outputs": [],
   "source": [
    "# Core Python Libraries\n",
    "import os  # Operating system interactions, such as reading and writing files.\n",
    "import shutil  # High-level file operations like copying and moving files.\n",
    "import random  # Random number generation for various tasks.\n",
    "import textwrap  # Formatting text into paragraphs of a specified width.\n",
    "\n",
    "# PyTorch-related Libraries (Deep Learning)\n",
    "import torch  # Core PyTorch library for tensor computations.\n",
    "import torch.nn as nn  # Neural network module for defining layers and architectures.\n",
    "import torch.optim as optim  # Optimizer module for training models (SGD, Adam, etc.).\n",
    "from torch.utils.data import Dataset, DataLoader  # Dataset and DataLoader for managing and batching data.\n",
    "import torchvision.transforms as transforms  # Transformations for image preprocessing.\n",
    "\n",
    "# Geospatial Data Processing Libraries\n",
    "import rasterio  # Library for reading and writing geospatial raster data.\n",
    "from rasterio.warp import calculate_default_transform, reproject  # Reprojection and transformation functions.\n",
    "from rasterio.enums import Resampling  # Resampling methods used for resizing raster data.\n",
    "from rasterio.plot import show  # Visualization of raster data.\n",
    "\n",
    "\n",
    "# Data Manipulation and Analysis Libraries\n",
    "import pandas as pd  # Data analysis and manipulation library for DataFrames and CSVs.\n",
    "import numpy as np  # Numpy for array operations and numerical computations.\n",
    "\n",
    "# Visualization Libraries\n",
    "import matplotlib.pyplot as plt  # Plotting library for creating static and interactive visualizations.\n",
    "import seaborn as sns  # High-level interface for drawing attractive statistical graphics.\n",
    "\n",
    "# Utilities\n",
    "from tqdm import tqdm  # Progress bar for loops and processes.\n",
    "from PIL import Image  # Image handling, opening, manipulating, and saving."
   ]
  },
  {
   "cell_type": "code",
   "execution_count": 54,
   "id": "13aae06f-cb44-47de-9938-3d8b5249a611",
   "metadata": {},
   "outputs": [
    {
     "name": "stdout",
     "output_type": "stream",
     "text": [
      "CUDA is available by PyTorch. You have 1 GPU(s).\n",
      "GPU Name: NVIDIA GeForce RTX 3050\n",
      "\n"
     ]
    }
   ],
   "source": [
    "# Check if CUDA (GPU) is available\n",
    "if torch.cuda.is_available():\n",
    "    print(f\"CUDA is available by PyTorch. You have {torch.cuda.device_count()} GPU(s).\")\n",
    "    print(f\"GPU Name: {torch.cuda.get_device_name(0)}\")\n",
    "else:\n",
    "    print(\"CUDA is not available by PyTorch. Running on CPU.\")\n",
    "\n",
    "print()"
   ]
  },
  {
   "cell_type": "code",
   "execution_count": 55,
   "id": "5d8356b5-2606-4e63-a2a1-21317e43aab7",
   "metadata": {},
   "outputs": [],
   "source": [
    "# Load the metadata\n",
    "metadata_df = pd.read_parquet(r'C:\\Users\\isaac\\Downloads\\metadata.parquet')\n",
    "# Load the metadata for the snow/cloud/shadow data\n",
    "snow_cloud_shadow_metadata_df = pd.read_parquet(r'C:\\Users\\isaac\\Downloads\\metadata_for_patches_with_snow_cloud_or_shadow.parquet')\n",
    "\n",
    "# Base directories\n",
    "source_dir = r'C:\\Users\\isaac\\Desktop\\BigEarthTests\\BigEarthSubset2'"
   ]
  },
  {
   "cell_type": "code",
   "execution_count": null,
   "id": "dbefac4c-228c-49ae-9162-1165b879053e",
   "metadata": {},
   "outputs": [],
   "source": [
    "# Initialize counters\n",
    "true_count = 0\n",
    "false_count = 0\n",
    "\n",
    "# Iterate through all folders in the base directory\n",
    "for folder_name in tqdm(os.listdir(source_dir), desc=\"Processing folders\"):\n",
    "    folder_path = os.path.join(source_dir, folder_name)\n",
    "    for patch_name in os.listdir(folder_path):\n",
    "        patch_path = os.path.join(folder_path, patch_name)\n",
    "\n",
    "        # Filter the DataFrame to get the row with the matching patch_id\n",
    "        matching_row = snow_cloud_shadow_metadata_df.loc[metadata_df['patch_id'] == patch_name]\n",
    "\n",
    "         # If a match is found, extract the labels\n",
    "        if not matching_row.empty:\n",
    "            contains_cloud_or_shadow = matching_row['contains_cloud_or_shadow'].values[0]\n",
    "            if contains_cloud_or_shadow:\n",
    "                true_count += 1\n",
    "                shutil.rmtree(patch_path)\n",
    "            else:\n",
    "                false_count += 1\n",
    "\n",
    "# Print the results\n",
    "print(f\"Total True (contains_cloud_or_shadow): {true_count}\")\n",
    "print(f\"Total False (contains_cloud_or_shadow): {false_count}\")"
   ]
  },
  {
   "cell_type": "code",
   "execution_count": null,
   "id": "511c2b93-fee1-42c8-8665-08958dbee9a7",
   "metadata": {},
   "outputs": [],
   "source": [
    "# Initialize a counter for deleted folders\n",
    "deleted_folders_count = 0\n",
    "\n",
    "# Loop through each row in the DataFrame with a progress bar\n",
    "for index, row in tqdm(snow_cloud_shadow_metadata_df.iterrows(), total=len(snow_cloud_shadow_metadata_df), desc=\"Processing files\"):\n",
    "    patch_id = row['patch_id']  # Adjust if the column name differs\n",
    "    # Extract the folder name (all but the last part of the patch_id)\n",
    "    folder_name = '_'.join(patch_id.split('_')[:-2])\n",
    "    dest_dir = os.path.join(source_dir, folder_name, patch_id)  # Use os.path.join for better path handling\n",
    "    \n",
    "    # If dest_dir exists, delete it\n",
    "    if os.path.exists(dest_dir):\n",
    "        shutil.rmtree(dest_dir)  # Remove the directory and its contents\n",
    "        deleted_folders_count += 1  # Increment the counter\n",
    "\n",
    "# Print the total number of deleted folders\n",
    "print(f\"Total deleted folders: {deleted_folders_count}\")"
   ]
  },
  {
   "cell_type": "code",
   "execution_count": 56,
   "id": "0af905bb-202e-43d0-9266-2f6894b8187e",
   "metadata": {},
   "outputs": [],
   "source": [
    "def resize_tiff(input_tif, output_tif, new_width, new_height):\n",
    "    with rasterio.open(input_tif) as src:\n",
    "        # Calculate the transform for the new dimensions\n",
    "        transform, width, height = calculate_default_transform(\n",
    "            src.crs, src.crs, new_width, new_height, *src.bounds\n",
    "        )\n",
    "\n",
    "        kwargs = src.meta.copy()\n",
    "        kwargs.update({\n",
    "            'crs': src.crs,\n",
    "            'transform': transform,\n",
    "            'width': new_width,\n",
    "            'height': new_height,\n",
    "            'dtype': 'uint16'  # Adjust dtype as necessary\n",
    "        })\n",
    "\n",
    "        with rasterio.open(output_tif, 'w', **kwargs) as dst:\n",
    "            for i in range(1, src.count + 1):\n",
    "                reproject(\n",
    "                    source=rasterio.band(src, i),\n",
    "                    destination=rasterio.band(dst, i),\n",
    "                    src_transform=src.transform,\n",
    "                    src_crs=src.crs,\n",
    "                    dst_transform=transform,\n",
    "                    dst_crs=src.crs,\n",
    "                    resampling=Resampling.nearest\n",
    "                )"
   ]
  },
  {
   "cell_type": "code",
   "execution_count": null,
   "id": "f4e3448f-26c6-4d44-8c4b-101f63357e80",
   "metadata": {},
   "outputs": [],
   "source": [
    "source_dir = r'C:\\Users\\isaac\\Desktop\\BigEarthTests\\BigEarthSubsetSmallVersion'\n",
    "\n",
    "for folder in source_dir:\n",
    "    for subfolder in folder:\n",
    "        print(subfolder)\n",
    "        \n",
    "input_tif = r\"C:\\Users\\isaac\\Desktop\\S2A_MSIL2A_20170613T101031_N9999_R022_T33UUP_78_33\\S2A_MSIL2A_20170613T101031_N9999_R022_T33UUP_78_33_B07.tif\"\n",
    "temp_tif = r\"C:\\Users\\isaac\\Desktop\\S2A_MSIL2A_20170613T101031_N9999_R022_T33UUP_78_33\\S2A_MSIL2A_20170613T101031_N9999_R022_T33UUP_78_33_B07_resized.tif\"\n",
    "new_width = 120\n",
    "new_height = 120\n",
    "\n",
    "resize_tiff(input_tif, temp_tif, new_width, new_height)\n",
    "\n",
    "#os.remove(input_tif)  # Delete the original\n",
    "#os.rename(temp_tif, input_tif)  # Rename the temporary file"
   ]
  },
  {
   "cell_type": "code",
   "execution_count": 1,
   "id": "7c09516d-4483-49b1-b9f5-e793f4a74f18",
   "metadata": {},
   "outputs": [
    {
     "ename": "RasterioIOError",
     "evalue": "C:/Users/isaac/Desktop/BigEarthTests/BigEarthSubsetSmallVersion/S2A_MSIL2A_20170613T101031_N9999_R022_T33UUP/S2A_MSIL2A_20170613T101031_N9999_R022_T33UUP_90_90/S2A_MSIL2A_20170613T101031_N9999_R022_T33UUP_90_90_B07resized.tif: No such file or directory",
     "output_type": "error",
     "traceback": [
      "\u001b[1;31m---------------------------------------------------------------------------\u001b[0m",
      "\u001b[1;31mCPLE_OpenFailedError\u001b[0m                      Traceback (most recent call last)",
      "File \u001b[1;32mrasterio\\\\_base.pyx:310\u001b[0m, in \u001b[0;36mrasterio._base.DatasetBase.__init__\u001b[1;34m()\u001b[0m\n",
      "File \u001b[1;32mrasterio\\\\_base.pyx:221\u001b[0m, in \u001b[0;36mrasterio._base.open_dataset\u001b[1;34m()\u001b[0m\n",
      "File \u001b[1;32mrasterio\\\\_err.pyx:221\u001b[0m, in \u001b[0;36mrasterio._err.exc_wrap_pointer\u001b[1;34m()\u001b[0m\n",
      "\u001b[1;31mCPLE_OpenFailedError\u001b[0m: C:/Users/isaac/Desktop/BigEarthTests/BigEarthSubsetSmallVersion/S2A_MSIL2A_20170613T101031_N9999_R022_T33UUP/S2A_MSIL2A_20170613T101031_N9999_R022_T33UUP_90_90/S2A_MSIL2A_20170613T101031_N9999_R022_T33UUP_90_90_B07resized.tif: No such file or directory",
      "\nDuring handling of the above exception, another exception occurred:\n",
      "\u001b[1;31mRasterioIOError\u001b[0m                           Traceback (most recent call last)",
      "Cell \u001b[1;32mIn[1], line 39\u001b[0m\n\u001b[0;32m     36\u001b[0m band_number1 \u001b[38;5;241m=\u001b[39m \u001b[38;5;241m1\u001b[39m  \u001b[38;5;66;03m# Band from the first image\u001b[39;00m\n\u001b[0;32m     37\u001b[0m band_number2 \u001b[38;5;241m=\u001b[39m \u001b[38;5;241m1\u001b[39m  \u001b[38;5;66;03m# Change to a valid band number for the second image\u001b[39;00m\n\u001b[1;32m---> 39\u001b[0m display_bands(image_path1, band_number1, image_path2, band_number2)\n",
      "Cell \u001b[1;32mIn[1], line 12\u001b[0m, in \u001b[0;36mdisplay_bands\u001b[1;34m(image_path1, band_number1, image_path2, band_number2)\u001b[0m\n\u001b[0;32m      9\u001b[0m     band_data1 \u001b[38;5;241m=\u001b[39m src1\u001b[38;5;241m.\u001b[39mread(band_number1)\n\u001b[0;32m     11\u001b[0m \u001b[38;5;66;03m# Open the second image and read the specified band\u001b[39;00m\n\u001b[1;32m---> 12\u001b[0m \u001b[38;5;28;01mwith\u001b[39;00m rasterio\u001b[38;5;241m.\u001b[39mopen(image_path2) \u001b[38;5;28;01mas\u001b[39;00m src2:\n\u001b[0;32m     13\u001b[0m     \u001b[38;5;28;01mif\u001b[39;00m band_number2 \u001b[38;5;241m>\u001b[39m src2\u001b[38;5;241m.\u001b[39mcount:\n\u001b[0;32m     14\u001b[0m         \u001b[38;5;28;01mraise\u001b[39;00m \u001b[38;5;167;01mIndexError\u001b[39;00m(\u001b[38;5;124mf\u001b[39m\u001b[38;5;124m\"\u001b[39m\u001b[38;5;124mBand \u001b[39m\u001b[38;5;132;01m{\u001b[39;00mband_number2\u001b[38;5;132;01m}\u001b[39;00m\u001b[38;5;124m does not exist in \u001b[39m\u001b[38;5;132;01m{\u001b[39;00mimage_path2\u001b[38;5;132;01m}\u001b[39;00m\u001b[38;5;124m. Available bands: \u001b[39m\u001b[38;5;132;01m{\u001b[39;00msrc2\u001b[38;5;241m.\u001b[39mcount\u001b[38;5;132;01m}\u001b[39;00m\u001b[38;5;124m\"\u001b[39m)\n",
      "File \u001b[1;32m~\\anaconda3\\envs\\Fyp311\\Lib\\site-packages\\rasterio\\env.py:451\u001b[0m, in \u001b[0;36mensure_env_with_credentials.<locals>.wrapper\u001b[1;34m(*args, **kwds)\u001b[0m\n\u001b[0;32m    448\u001b[0m     session \u001b[38;5;241m=\u001b[39m DummySession()\n\u001b[0;32m    450\u001b[0m \u001b[38;5;28;01mwith\u001b[39;00m env_ctor(session\u001b[38;5;241m=\u001b[39msession):\n\u001b[1;32m--> 451\u001b[0m     \u001b[38;5;28;01mreturn\u001b[39;00m f(\u001b[38;5;241m*\u001b[39margs, \u001b[38;5;241m*\u001b[39m\u001b[38;5;241m*\u001b[39mkwds)\n",
      "File \u001b[1;32m~\\anaconda3\\envs\\Fyp311\\Lib\\site-packages\\rasterio\\__init__.py:304\u001b[0m, in \u001b[0;36mopen\u001b[1;34m(fp, mode, driver, width, height, count, crs, transform, dtype, nodata, sharing, **kwargs)\u001b[0m\n\u001b[0;32m    301\u001b[0m path \u001b[38;5;241m=\u001b[39m _parse_path(raw_dataset_path)\n\u001b[0;32m    303\u001b[0m \u001b[38;5;28;01mif\u001b[39;00m mode \u001b[38;5;241m==\u001b[39m \u001b[38;5;124m\"\u001b[39m\u001b[38;5;124mr\u001b[39m\u001b[38;5;124m\"\u001b[39m:\n\u001b[1;32m--> 304\u001b[0m     dataset \u001b[38;5;241m=\u001b[39m DatasetReader(path, driver\u001b[38;5;241m=\u001b[39mdriver, sharing\u001b[38;5;241m=\u001b[39msharing, \u001b[38;5;241m*\u001b[39m\u001b[38;5;241m*\u001b[39mkwargs)\n\u001b[0;32m    305\u001b[0m \u001b[38;5;28;01melif\u001b[39;00m mode \u001b[38;5;241m==\u001b[39m \u001b[38;5;124m\"\u001b[39m\u001b[38;5;124mr+\u001b[39m\u001b[38;5;124m\"\u001b[39m:\n\u001b[0;32m    306\u001b[0m     dataset \u001b[38;5;241m=\u001b[39m get_writer_for_path(path, driver\u001b[38;5;241m=\u001b[39mdriver)(\n\u001b[0;32m    307\u001b[0m         path, mode, driver\u001b[38;5;241m=\u001b[39mdriver, sharing\u001b[38;5;241m=\u001b[39msharing, \u001b[38;5;241m*\u001b[39m\u001b[38;5;241m*\u001b[39mkwargs\n\u001b[0;32m    308\u001b[0m     )\n",
      "File \u001b[1;32mrasterio\\\\_base.pyx:312\u001b[0m, in \u001b[0;36mrasterio._base.DatasetBase.__init__\u001b[1;34m()\u001b[0m\n",
      "\u001b[1;31mRasterioIOError\u001b[0m: C:/Users/isaac/Desktop/BigEarthTests/BigEarthSubsetSmallVersion/S2A_MSIL2A_20170613T101031_N9999_R022_T33UUP/S2A_MSIL2A_20170613T101031_N9999_R022_T33UUP_90_90/S2A_MSIL2A_20170613T101031_N9999_R022_T33UUP_90_90_B07resized.tif: No such file or directory"
     ]
    }
   ],
   "source": [
    "import rasterio\n",
    "import matplotlib.pyplot as plt\n",
    "\n",
    "def display_bands(image_path1, band_number1, image_path2, band_number2):\n",
    "    # Open the first image and read the specified band\n",
    "    with rasterio.open(image_path1) as src1:\n",
    "        if band_number1 > src1.count:\n",
    "            raise IndexError(f\"Band {band_number1} does not exist in {image_path1}. Available bands: {src1.count}\")\n",
    "        band_data1 = src1.read(band_number1)\n",
    "\n",
    "    # Open the second image and read the specified band\n",
    "    with rasterio.open(image_path2) as src2:\n",
    "        if band_number2 > src2.count:\n",
    "            raise IndexError(f\"Band {band_number2} does not exist in {image_path2}. Available bands: {src2.count}\")\n",
    "        band_data2 = src2.read(band_number2)\n",
    "\n",
    "    # Create a figure with subplots\n",
    "    fig, ax = plt.subplots(1, 2, figsize=(15, 7))\n",
    "\n",
    "    # Display the first band\n",
    "    ax[0].imshow(band_data1, cmap='gray')\n",
    "    ax[0].set_title(f'Band {band_number1} from Image 1')\n",
    "    ax[0].axis('off')\n",
    "\n",
    "    # Display the second band\n",
    "    ax[1].imshow(band_data2, cmap='gray')\n",
    "    ax[1].set_title(f'Band {band_number2} from Image 2')\n",
    "    ax[1].axis('off')\n",
    "\n",
    "    plt.tight_layout()\n",
    "    plt.show()\n",
    "\n",
    "# Example usage\n",
    "image_path1 = r\"C:\\Users\\isaac\\Desktop\\BigEarthTests\\BigEarthSubsetSmallVersion\\S2A_MSIL2A_20170613T101031_N9999_R022_T33UUP\\S2A_MSIL2A_20170613T101031_N9999_R022_T33UUP_90_90\\S2A_MSIL2A_20170613T101031_N9999_R022_T33UUP_90_90_B07.tif\"  # First image path\n",
    "image_path2 = r\"C:\\Users\\isaac\\Desktop\\BigEarthTests\\BigEarthSubsetSmallVersion\\S2A_MSIL2A_20170613T101031_N9999_R022_T33UUP\\S2A_MSIL2A_20170613T101031_N9999_R022_T33UUP_90_90\\S2A_MSIL2A_20170613T101031_N9999_R022_T33UUP_90_90_B07resized.tif\" \n",
    "band_number1 = 1  # Band from the first image\n",
    "band_number2 = 1  # Change to a valid band number for the second image\n",
    "\n",
    "display_bands(image_path1, band_number1, image_path2, band_number2)"
   ]
  },
  {
   "cell_type": "code",
   "execution_count": 58,
   "id": "9c4bcdfd-608f-49ab-b05d-474f0c3329c4",
   "metadata": {},
   "outputs": [
    {
     "name": "stderr",
     "output_type": "stream",
     "text": [
      "Processing S2A_MSIL2A_20170613T101031_N9999_R022_T33UUP_29_59: 100%|██████████| 8/8 [00:01<00:00,  6.63band/s]\n",
      "Processing S2A_MSIL2A_20170613T101031_N9999_R022_T33UUP_31_59: 100%|██████████| 8/8 [00:01<00:00,  7.11band/s]\n",
      "Processing S2A_MSIL2A_20170613T101031_N9999_R022_T33UUP_32_55: 100%|██████████| 8/8 [00:01<00:00,  6.81band/s]\n",
      "Processing S2A_MSIL2A_20170613T101031_N9999_R022_T33UUP_34_51: 100%|██████████| 8/8 [00:01<00:00,  6.23band/s]\n",
      "Processing S2A_MSIL2A_20170613T101031_N9999_R022_T33UUP_40_57: 100%|██████████| 8/8 [00:01<00:00,  6.71band/s]\n",
      "Processing S2A_MSIL2A_20170613T101031_N9999_R022_T33UUP_41_67: 100%|██████████| 8/8 [00:01<00:00,  6.32band/s]\n",
      "Processing S2A_MSIL2A_20170613T101031_N9999_R022_T33UUP_41_90: 100%|██████████| 8/8 [00:01<00:00,  6.40band/s]\n",
      "Processing S2A_MSIL2A_20170613T101031_N9999_R022_T33UUP_46_69: 100%|██████████| 8/8 [00:01<00:00,  6.03band/s]\n",
      "Processing S2A_MSIL2A_20170613T101031_N9999_R022_T33UUP_55_52: 100%|██████████| 8/8 [00:01<00:00,  5.64band/s]\n",
      "Processing S2A_MSIL2A_20170613T101031_N9999_R022_T33UUP_59_67: 100%|██████████| 8/8 [00:01<00:00,  5.98band/s]\n",
      "Processing S2A_MSIL2A_20170613T101031_N9999_R022_T33UUP_59_69: 100%|██████████| 8/8 [00:01<00:00,  6.36band/s]\n",
      "Processing S2A_MSIL2A_20170613T101031_N9999_R022_T33UUP_61_74: 100%|██████████| 8/8 [00:01<00:00,  5.26band/s]\n",
      "Processing S2A_MSIL2A_20170613T101031_N9999_R022_T33UUP_62_86: 100%|██████████| 8/8 [00:01<00:00,  4.84band/s]\n",
      "Processing S2A_MSIL2A_20170613T101031_N9999_R022_T33UUP_63_52: 100%|██████████| 8/8 [00:01<00:00,  6.13band/s]\n",
      "Processing S2A_MSIL2A_20170613T101031_N9999_R022_T33UUP_65_40: 100%|██████████| 8/8 [00:01<00:00,  6.68band/s]\n",
      "Processing S2A_MSIL2A_20170613T101031_N9999_R022_T33UUP_66_67: 100%|██████████| 8/8 [00:01<00:00,  6.36band/s]\n",
      "Processing S2A_MSIL2A_20170613T101031_N9999_R022_T33UUP_67_47: 100%|██████████| 8/8 [00:01<00:00,  6.11band/s]\n",
      "Processing S2A_MSIL2A_20170613T101031_N9999_R022_T33UUP_67_88: 100%|██████████| 8/8 [00:01<00:00,  5.07band/s]\n",
      "Processing S2A_MSIL2A_20170613T101031_N9999_R022_T33UUP_69_43: 100%|██████████| 8/8 [00:01<00:00,  6.37band/s]\n",
      "Processing S2A_MSIL2A_20170613T101031_N9999_R022_T33UUP_70_34: 100%|██████████| 8/8 [00:01<00:00,  6.14band/s]\n",
      "Processing S2A_MSIL2A_20170613T101031_N9999_R022_T33UUP_77_51: 100%|██████████| 8/8 [00:01<00:00,  5.60band/s]\n",
      "Processing S2A_MSIL2A_20170613T101031_N9999_R022_T33UUP_79_50: 100%|██████████| 8/8 [00:01<00:00,  4.76band/s]\n",
      "Processing S2A_MSIL2A_20170613T101031_N9999_R022_T33UUP_79_76: 100%|██████████| 8/8 [00:01<00:00,  5.14band/s]\n",
      "Processing S2A_MSIL2A_20170613T101031_N9999_R022_T33UUP_80_58: 100%|██████████| 8/8 [00:01<00:00,  6.02band/s]\n",
      "Processing S2A_MSIL2A_20170613T101031_N9999_R022_T33UUP_81_59: 100%|██████████| 8/8 [00:01<00:00,  5.71band/s]\n",
      "Processing S2A_MSIL2A_20170613T101031_N9999_R022_T33UUP_83_18: 100%|██████████| 8/8 [00:01<00:00,  6.36band/s]\n",
      "Processing S2A_MSIL2A_20170613T101031_N9999_R022_T33UUP_83_58: 100%|██████████| 8/8 [00:01<00:00,  6.25band/s]\n",
      "Processing S2A_MSIL2A_20170613T101031_N9999_R022_T33UUP_83_83: 100%|██████████| 8/8 [00:01<00:00,  6.18band/s]\n",
      "Processing S2A_MSIL2A_20170613T101031_N9999_R022_T33UUP_84_55: 100%|██████████| 8/8 [00:01<00:00,  6.34band/s]\n",
      "Processing S2A_MSIL2A_20170613T101031_N9999_R022_T33UUP_85_19: 100%|██████████| 8/8 [00:01<00:00,  6.13band/s]\n",
      "Processing S2A_MSIL2A_20170613T101031_N9999_R022_T33UUP_86_84: 100%|██████████| 8/8 [00:01<00:00,  5.39band/s]\n",
      "Processing S2A_MSIL2A_20170613T101031_N9999_R022_T34VER_01_54: 100%|██████████| 8/8 [00:01<00:00,  6.01band/s]\n",
      "Processing S2A_MSIL2A_20170613T101031_N9999_R022_T34VER_01_69: 100%|██████████| 8/8 [00:01<00:00,  5.93band/s]\n",
      "Processing S2A_MSIL2A_20170613T101031_N9999_R022_T34VER_15_60: 100%|██████████| 8/8 [00:01<00:00,  6.35band/s]\n",
      "Processing S2A_MSIL2A_20170613T101031_N9999_R022_T34VER_18_72: 100%|██████████| 8/8 [00:01<00:00,  6.35band/s]\n",
      "Processing S2A_MSIL2A_20170613T101031_N9999_R022_T34VER_19_42: 100%|██████████| 8/8 [00:01<00:00,  6.68band/s]\n",
      "Processing S2A_MSIL2A_20170613T101031_N9999_R022_T34VER_19_50: 100%|██████████| 8/8 [00:01<00:00,  6.94band/s]\n",
      "Processing S2A_MSIL2A_20170613T101031_N9999_R022_T34VER_20_52: 100%|██████████| 8/8 [00:01<00:00,  6.01band/s]\n",
      "Processing S2A_MSIL2A_20170613T101031_N9999_R022_T34VER_22_61: 100%|██████████| 8/8 [00:01<00:00,  6.04band/s]\n",
      "Processing S2A_MSIL2A_20170613T101031_N9999_R022_T34VER_22_65: 100%|██████████| 8/8 [00:01<00:00,  6.01band/s]\n",
      "Processing S2A_MSIL2A_20170613T101031_N9999_R022_T34VER_22_72: 100%|██████████| 8/8 [00:01<00:00,  5.84band/s]\n",
      "Processing S2A_MSIL2A_20170613T101031_N9999_R022_T34VER_23_48: 100%|██████████| 8/8 [00:01<00:00,  5.61band/s]\n",
      "Processing S2A_MSIL2A_20170613T101031_N9999_R022_T34VER_25_55: 100%|██████████| 8/8 [00:01<00:00,  6.21band/s]\n",
      "Processing S2A_MSIL2A_20170613T101031_N9999_R022_T34VER_26_81: 100%|██████████| 8/8 [00:01<00:00,  5.64band/s]\n",
      "Processing S2A_MSIL2A_20170613T101031_N9999_R022_T34VER_27_77: 100%|██████████| 8/8 [00:01<00:00,  6.06band/s]\n",
      "Processing S2A_MSIL2A_20170613T101031_N9999_R022_T34VER_30_51: 100%|██████████| 8/8 [00:01<00:00,  5.97band/s]\n",
      "Processing S2A_MSIL2A_20170613T101031_N9999_R022_T34VER_30_84: 100%|██████████| 8/8 [00:01<00:00,  5.99band/s]\n",
      "Processing S2A_MSIL2A_20170613T101031_N9999_R022_T34VER_35_79: 100%|██████████| 8/8 [00:01<00:00,  6.37band/s]\n",
      "Processing S2A_MSIL2A_20170613T101031_N9999_R022_T34VER_36_38: 100%|██████████| 8/8 [00:01<00:00,  6.28band/s]\n",
      "Processing S2A_MSIL2A_20170613T101031_N9999_R022_T34VER_39_79: 100%|██████████| 8/8 [00:01<00:00,  6.60band/s]\n",
      "Processing S2A_MSIL2A_20170613T101031_N9999_R022_T34VER_40_89: 100%|██████████| 8/8 [00:01<00:00,  6.66band/s]\n",
      "Processing S2A_MSIL2A_20170613T101031_N9999_R022_T34VER_41_73: 100%|██████████| 8/8 [00:01<00:00,  6.31band/s]\n",
      "Processing S2A_MSIL2A_20170613T101031_N9999_R022_T34VER_42_46: 100%|██████████| 8/8 [00:01<00:00,  6.10band/s]\n",
      "Processing S2A_MSIL2A_20170613T101031_N9999_R022_T34VER_43_86: 100%|██████████| 8/8 [00:01<00:00,  6.01band/s]\n",
      "Processing S2A_MSIL2A_20170613T101031_N9999_R022_T34VER_47_88: 100%|██████████| 8/8 [00:01<00:00,  6.64band/s]\n",
      "Processing S2A_MSIL2A_20170613T101031_N9999_R022_T34VER_49_60: 100%|██████████| 8/8 [00:01<00:00,  6.69band/s]\n",
      "Processing S2A_MSIL2A_20170613T101031_N9999_R022_T34VER_52_49: 100%|██████████| 8/8 [00:01<00:00,  6.36band/s]\n",
      "Processing S2A_MSIL2A_20170613T101031_N9999_R022_T34VER_52_54: 100%|██████████| 8/8 [00:01<00:00,  6.87band/s]\n",
      "Processing S2A_MSIL2A_20170613T101031_N9999_R022_T34VER_54_84: 100%|██████████| 8/8 [00:01<00:00,  6.71band/s]\n",
      "Processing S2A_MSIL2A_20170613T101031_N9999_R022_T34VER_56_57: 100%|██████████| 8/8 [00:01<00:00,  6.09band/s]\n",
      "Processing S2A_MSIL2A_20170613T101031_N9999_R022_T34VER_57_62: 100%|██████████| 8/8 [00:01<00:00,  6.72band/s]\n",
      "Processing S2A_MSIL2A_20170613T101031_N9999_R022_T34VER_57_86: 100%|██████████| 8/8 [00:01<00:00,  6.52band/s]\n",
      "Processing S2A_MSIL2A_20170613T101031_N9999_R022_T34VER_59_10: 100%|██████████| 8/8 [00:01<00:00,  6.45band/s]\n",
      "Processing S2A_MSIL2A_20170613T101031_N9999_R022_T34VER_61_34: 100%|██████████| 8/8 [00:01<00:00,  6.62band/s]\n",
      "Processing S2A_MSIL2A_20170613T101031_N9999_R022_T34VER_61_55: 100%|██████████| 8/8 [00:01<00:00,  6.52band/s]\n",
      "Processing S2A_MSIL2A_20170613T101031_N9999_R022_T34VER_62_07: 100%|██████████| 8/8 [00:01<00:00,  6.58band/s]\n",
      "Processing S2A_MSIL2A_20170613T101031_N9999_R022_T34VER_62_51: 100%|██████████| 8/8 [00:01<00:00,  6.86band/s]\n",
      "Processing S2A_MSIL2A_20170613T101031_N9999_R022_T34VER_64_08: 100%|██████████| 8/8 [00:01<00:00,  6.69band/s]\n",
      "Processing S2A_MSIL2A_20170613T101031_N9999_R022_T34VER_64_50: 100%|██████████| 8/8 [00:01<00:00,  6.75band/s]\n",
      "Processing S2A_MSIL2A_20170613T101031_N9999_R022_T34VER_64_65: 100%|██████████| 8/8 [00:01<00:00,  7.00band/s]\n",
      "Processing S2A_MSIL2A_20170613T101031_N9999_R022_T34VER_65_77: 100%|██████████| 8/8 [00:01<00:00,  6.95band/s]\n",
      "Processing S2A_MSIL2A_20170613T101031_N9999_R022_T34VER_66_71: 100%|██████████| 8/8 [00:01<00:00,  6.67band/s]\n",
      "Processing S2A_MSIL2A_20170613T101031_N9999_R022_T34VER_66_89: 100%|██████████| 8/8 [00:01<00:00,  6.53band/s]\n",
      "Processing S2A_MSIL2A_20170613T101031_N9999_R022_T34VER_67_15: 100%|██████████| 8/8 [00:01<00:00,  6.66band/s]\n",
      "Processing S2A_MSIL2A_20170613T101031_N9999_R022_T34VER_69_23: 100%|██████████| 8/8 [00:01<00:00,  6.68band/s]\n",
      "Processing S2A_MSIL2A_20170613T101031_N9999_R022_T34VER_71_82: 100%|██████████| 8/8 [00:01<00:00,  6.64band/s]\n",
      "Processing S2A_MSIL2A_20170613T101031_N9999_R022_T34VER_71_89: 100%|██████████| 8/8 [00:01<00:00,  6.58band/s]\n",
      "Processing S2A_MSIL2A_20170613T101031_N9999_R022_T34VER_72_69: 100%|██████████| 8/8 [00:01<00:00,  6.36band/s]\n",
      "Processing S2A_MSIL2A_20170613T101031_N9999_R022_T34VER_73_00: 100%|██████████| 8/8 [00:01<00:00,  6.59band/s]\n",
      "Processing S2A_MSIL2A_20170613T101031_N9999_R022_T34VER_73_35: 100%|██████████| 8/8 [00:01<00:00,  6.84band/s]\n",
      "Processing S2A_MSIL2A_20170613T101031_N9999_R022_T34VER_74_60: 100%|██████████| 8/8 [00:01<00:00,  6.60band/s]\n",
      "Processing S2A_MSIL2A_20170613T101031_N9999_R022_T34VER_75_50: 100%|██████████| 8/8 [00:01<00:00,  6.73band/s]\n",
      "Processing S2A_MSIL2A_20170613T101031_N9999_R022_T34VER_75_89: 100%|██████████| 8/8 [00:01<00:00,  6.55band/s]\n",
      "Processing S2A_MSIL2A_20170613T101031_N9999_R022_T34VER_76_02: 100%|██████████| 8/8 [00:01<00:00,  6.53band/s]\n",
      "Processing S2A_MSIL2A_20170613T101031_N9999_R022_T34VER_76_30: 100%|██████████| 8/8 [00:01<00:00,  6.72band/s]\n",
      "Processing S2A_MSIL2A_20170613T101031_N9999_R022_T34VER_78_15: 100%|██████████| 8/8 [00:01<00:00,  5.95band/s]\n",
      "Processing S2A_MSIL2A_20170613T101031_N9999_R022_T34VER_79_62: 100%|██████████| 8/8 [00:01<00:00,  6.28band/s]\n",
      "Processing S2A_MSIL2A_20170613T101031_N9999_R022_T34VER_83_16: 100%|██████████| 8/8 [00:01<00:00,  6.37band/s]\n",
      "Processing S2A_MSIL2A_20170613T101031_N9999_R022_T34VER_84_30: 100%|██████████| 8/8 [00:01<00:00,  6.56band/s]\n",
      "Processing S2A_MSIL2A_20170613T101031_N9999_R022_T34VER_85_27: 100%|██████████| 8/8 [00:01<00:00,  6.51band/s]\n",
      "Processing S2A_MSIL2A_20170613T101031_N9999_R022_T34VER_86_06: 100%|██████████| 8/8 [00:01<00:00,  6.26band/s]\n",
      "Processing S2A_MSIL2A_20170613T101031_N9999_R022_T34VER_86_21: 100%|██████████| 8/8 [00:01<00:00,  6.45band/s]\n",
      "Processing S2A_MSIL2A_20170613T101031_N9999_R022_T34VER_86_57: 100%|██████████| 8/8 [00:01<00:00,  6.65band/s]\n",
      "Processing S2A_MSIL2A_20170613T101031_N9999_R022_T34VER_87_11: 100%|██████████| 8/8 [00:01<00:00,  6.28band/s]\n",
      "Processing S2A_MSIL2A_20170613T101031_N9999_R022_T34VER_88_19: 100%|██████████| 8/8 [00:01<00:00,  6.72band/s]\n",
      "Processing S2A_MSIL2A_20170613T101031_N9999_R022_T34VER_88_78: 100%|██████████| 8/8 [00:01<00:00,  6.64band/s]\n",
      "Processing S2A_MSIL2A_20170613T101031_N9999_R022_T34VER_89_59: 100%|██████████| 8/8 [00:01<00:00,  6.64band/s]\n"
     ]
    }
   ],
   "source": [
    "source_dir = r'C:\\Users\\isaac\\Desktop\\BigEarthTests\\SmallerSubset'\n",
    "\n",
    "bands_of_interest = ['B01', 'B05', 'B06', 'B07', 'B8A', 'B09', 'B11', 'B12']\n",
    "\n",
    "# List all folders and subfolders\n",
    "for folder in os.listdir(source_dir):\n",
    "    folder_path = os.path.join(source_dir, folder)  # Create the full path\n",
    "    if os.path.isdir(folder_path):  # Check if it's a directory\n",
    "        #print(f'Folder: {folder}')\n",
    "        for subfolder in os.listdir(folder_path):\n",
    "            subfolder_path = os.path.join(folder_path, subfolder)\n",
    "            if os.path.isdir(subfolder_path):  # Check if it's a subdirectory\n",
    "                #print(f'  Subfolder: {subfolder}')\n",
    "                for band in tqdm(bands_of_interest, desc=f'Processing {subfolder}', unit='band'):\n",
    "                    band_source = subfolder_path + \"/\" + subfolder + \"_\" + band + \".tif\"\n",
    "                    temp_tif = subfolder_path + \"/\" + subfolder + \"_\" + band + \"_resized.tif\"\n",
    "                    new_width = 120\n",
    "                    new_height = 120\n",
    "\n",
    "                    resize_tiff(band_source, temp_tif, new_width, new_height)\n",
    "\n",
    "                    os.remove(band_source)  # Delete the original\n",
    "                    os.rename(temp_tif, band_source)  # Rename the temporary file"
   ]
  },
  {
   "cell_type": "code",
   "execution_count": 59,
   "id": "6c3d4863-00dd-4d02-ae8a-45ef214ad023",
   "metadata": {},
   "outputs": [],
   "source": [
    "def generate_band_paths(base_path):\n",
    "    bands = ['B01', 'B02', 'B03', 'B04', 'B05', 'B06', 'B07', 'B08', 'B8A', 'B09', 'B11', 'B12']\n",
    "    return [f\"{base_path}_{band}.tif\" for band in bands]\n",
    "\n",
    "def combine_tifs_to_single_file(base_path, output_path):\n",
    "    band_paths = generate_band_paths(base_path)\n",
    "\n",
    "    # Read the first image to get metadata\n",
    "    with rasterio.open(band_paths[0]) as src:\n",
    "        meta = src.meta.copy()\n",
    "        meta.update(count=len(band_paths))  # Update the count to the number of bands\n",
    "\n",
    "    # Create a new multi-band TIFF file\n",
    "    with rasterio.open(output_path, 'w', **meta) as dst:\n",
    "        for idx, path in enumerate(band_paths, start=1):\n",
    "            with rasterio.open(path) as src:\n",
    "                # Read each band and write it to the new file\n",
    "                dst.write(src.read(1), idx)\n",
    "\n",
    "# Example usage\n",
    "#base_path = r\"C:\\Users\\isaac\\Desktop\\S2A_MSIL2A_20170613T101031_N9999_R022_T33UUP_78_33\\S2A_MSIL2A_20170613T101031_N9999_R022_T33UUP_78_33\"\n",
    "#output_path = r\"C:\\Users\\isaac\\Desktop\\output.tif\"\n",
    "\n",
    "#combine_tifs_to_single_file(base_path, output_path)"
   ]
  },
  {
   "cell_type": "code",
   "execution_count": 60,
   "id": "054bee81-e35c-4de1-9c3c-2f5417267398",
   "metadata": {},
   "outputs": [],
   "source": [
    "source_dir = r\"C:\\Users\\isaac\\Desktop\\BigEarthTests\\SmallerSubset\"\n",
    "destination_dir = r\"C:\\Users\\isaac\\Desktop\\BigEarthTests\\SmallerSubset\\CombinedImages\"\n",
    "\n",
    "if not os.path.exists(destination_dir):\n",
    "    os.makedirs(destination_dir)"
   ]
  },
  {
   "cell_type": "code",
   "execution_count": 61,
   "id": "7e911f77-9bf4-4138-ace7-60961c64ca7f",
   "metadata": {},
   "outputs": [
    {
     "name": "stderr",
     "output_type": "stream",
     "text": [
      "Processing folders:   0%|          | 0/2 [00:00<?, ?it/s]"
     ]
    },
    {
     "name": "stdout",
     "output_type": "stream",
     "text": [
      "SubFolder Path:  C:\\Users\\isaac\\Desktop\\BigEarthTests\\SmallerSubset\\S2A_MSIL2A_20170613T101031_N9999_R022_T33UUP\\S2A_MSIL2A_20170613T101031_N9999_R022_T33UUP_29_59\\S2A_MSIL2A_20170613T101031_N9999_R022_T33UUP_29_59\n",
      "Dest SubFolder Path:  C:\\Users\\isaac\\Desktop\\BigEarthTests\\SmallerSubset\\CombinedImages\\S2A_MSIL2A_20170613T101031_N9999_R022_T33UUP\\S2A_MSIL2A_20170613T101031_N9999_R022_T33UUP_29_59.tif\n"
     ]
    },
    {
     "name": "stderr",
     "output_type": "stream",
     "text": []
    },
    {
     "name": "stdout",
     "output_type": "stream",
     "text": [
      "SubFolder Path:  C:\\Users\\isaac\\Desktop\\BigEarthTests\\SmallerSubset\\S2A_MSIL2A_20170613T101031_N9999_R022_T33UUP\\S2A_MSIL2A_20170613T101031_N9999_R022_T33UUP_31_59\\S2A_MSIL2A_20170613T101031_N9999_R022_T33UUP_31_59\n",
      "Dest SubFolder Path:  C:\\Users\\isaac\\Desktop\\BigEarthTests\\SmallerSubset\\CombinedImages\\S2A_MSIL2A_20170613T101031_N9999_R022_T33UUP\\S2A_MSIL2A_20170613T101031_N9999_R022_T33UUP_31_59.tif\n"
     ]
    },
    {
     "name": "stderr",
     "output_type": "stream",
     "text": []
    },
    {
     "name": "stdout",
     "output_type": "stream",
     "text": [
      "SubFolder Path:  C:\\Users\\isaac\\Desktop\\BigEarthTests\\SmallerSubset\\S2A_MSIL2A_20170613T101031_N9999_R022_T33UUP\\S2A_MSIL2A_20170613T101031_N9999_R022_T33UUP_32_55\\S2A_MSIL2A_20170613T101031_N9999_R022_T33UUP_32_55\n",
      "Dest SubFolder Path:  C:\\Users\\isaac\\Desktop\\BigEarthTests\\SmallerSubset\\CombinedImages\\S2A_MSIL2A_20170613T101031_N9999_R022_T33UUP\\S2A_MSIL2A_20170613T101031_N9999_R022_T33UUP_32_55.tif\n"
     ]
    },
    {
     "name": "stderr",
     "output_type": "stream",
     "text": []
    },
    {
     "name": "stdout",
     "output_type": "stream",
     "text": [
      "SubFolder Path:  C:\\Users\\isaac\\Desktop\\BigEarthTests\\SmallerSubset\\S2A_MSIL2A_20170613T101031_N9999_R022_T33UUP\\S2A_MSIL2A_20170613T101031_N9999_R022_T33UUP_34_51\\S2A_MSIL2A_20170613T101031_N9999_R022_T33UUP_34_51\n",
      "Dest SubFolder Path:  C:\\Users\\isaac\\Desktop\\BigEarthTests\\SmallerSubset\\CombinedImages\\S2A_MSIL2A_20170613T101031_N9999_R022_T33UUP\\S2A_MSIL2A_20170613T101031_N9999_R022_T33UUP_34_51.tif\n"
     ]
    },
    {
     "name": "stderr",
     "output_type": "stream",
     "text": []
    },
    {
     "name": "stdout",
     "output_type": "stream",
     "text": [
      "SubFolder Path:  C:\\Users\\isaac\\Desktop\\BigEarthTests\\SmallerSubset\\S2A_MSIL2A_20170613T101031_N9999_R022_T33UUP\\S2A_MSIL2A_20170613T101031_N9999_R022_T33UUP_40_57\\S2A_MSIL2A_20170613T101031_N9999_R022_T33UUP_40_57\n",
      "Dest SubFolder Path:  C:\\Users\\isaac\\Desktop\\BigEarthTests\\SmallerSubset\\CombinedImages\\S2A_MSIL2A_20170613T101031_N9999_R022_T33UUP\\S2A_MSIL2A_20170613T101031_N9999_R022_T33UUP_40_57.tif\n"
     ]
    },
    {
     "name": "stderr",
     "output_type": "stream",
     "text": []
    },
    {
     "name": "stdout",
     "output_type": "stream",
     "text": [
      "SubFolder Path:  C:\\Users\\isaac\\Desktop\\BigEarthTests\\SmallerSubset\\S2A_MSIL2A_20170613T101031_N9999_R022_T33UUP\\S2A_MSIL2A_20170613T101031_N9999_R022_T33UUP_41_67\\S2A_MSIL2A_20170613T101031_N9999_R022_T33UUP_41_67\n",
      "Dest SubFolder Path:  C:\\Users\\isaac\\Desktop\\BigEarthTests\\SmallerSubset\\CombinedImages\\S2A_MSIL2A_20170613T101031_N9999_R022_T33UUP\\S2A_MSIL2A_20170613T101031_N9999_R022_T33UUP_41_67.tif\n"
     ]
    },
    {
     "name": "stderr",
     "output_type": "stream",
     "text": []
    },
    {
     "name": "stdout",
     "output_type": "stream",
     "text": [
      "SubFolder Path:  C:\\Users\\isaac\\Desktop\\BigEarthTests\\SmallerSubset\\S2A_MSIL2A_20170613T101031_N9999_R022_T33UUP\\S2A_MSIL2A_20170613T101031_N9999_R022_T33UUP_41_90\\S2A_MSIL2A_20170613T101031_N9999_R022_T33UUP_41_90\n",
      "Dest SubFolder Path:  C:\\Users\\isaac\\Desktop\\BigEarthTests\\SmallerSubset\\CombinedImages\\S2A_MSIL2A_20170613T101031_N9999_R022_T33UUP\\S2A_MSIL2A_20170613T101031_N9999_R022_T33UUP_41_90.tif\n"
     ]
    },
    {
     "name": "stderr",
     "output_type": "stream",
     "text": []
    },
    {
     "name": "stdout",
     "output_type": "stream",
     "text": [
      "SubFolder Path:  C:\\Users\\isaac\\Desktop\\BigEarthTests\\SmallerSubset\\S2A_MSIL2A_20170613T101031_N9999_R022_T33UUP\\S2A_MSIL2A_20170613T101031_N9999_R022_T33UUP_46_69\\S2A_MSIL2A_20170613T101031_N9999_R022_T33UUP_46_69\n",
      "Dest SubFolder Path:  C:\\Users\\isaac\\Desktop\\BigEarthTests\\SmallerSubset\\CombinedImages\\S2A_MSIL2A_20170613T101031_N9999_R022_T33UUP\\S2A_MSIL2A_20170613T101031_N9999_R022_T33UUP_46_69.tif\n"
     ]
    },
    {
     "name": "stderr",
     "output_type": "stream",
     "text": []
    },
    {
     "name": "stdout",
     "output_type": "stream",
     "text": [
      "SubFolder Path:  C:\\Users\\isaac\\Desktop\\BigEarthTests\\SmallerSubset\\S2A_MSIL2A_20170613T101031_N9999_R022_T33UUP\\S2A_MSIL2A_20170613T101031_N9999_R022_T33UUP_55_52\\S2A_MSIL2A_20170613T101031_N9999_R022_T33UUP_55_52\n",
      "Dest SubFolder Path:  C:\\Users\\isaac\\Desktop\\BigEarthTests\\SmallerSubset\\CombinedImages\\S2A_MSIL2A_20170613T101031_N9999_R022_T33UUP\\S2A_MSIL2A_20170613T101031_N9999_R022_T33UUP_55_52.tif\n"
     ]
    },
    {
     "name": "stderr",
     "output_type": "stream",
     "text": []
    },
    {
     "name": "stdout",
     "output_type": "stream",
     "text": [
      "SubFolder Path:  C:\\Users\\isaac\\Desktop\\BigEarthTests\\SmallerSubset\\S2A_MSIL2A_20170613T101031_N9999_R022_T33UUP\\S2A_MSIL2A_20170613T101031_N9999_R022_T33UUP_59_67\\S2A_MSIL2A_20170613T101031_N9999_R022_T33UUP_59_67\n",
      "Dest SubFolder Path:  C:\\Users\\isaac\\Desktop\\BigEarthTests\\SmallerSubset\\CombinedImages\\S2A_MSIL2A_20170613T101031_N9999_R022_T33UUP\\S2A_MSIL2A_20170613T101031_N9999_R022_T33UUP_59_67.tif\n"
     ]
    },
    {
     "name": "stderr",
     "output_type": "stream",
     "text": []
    },
    {
     "name": "stdout",
     "output_type": "stream",
     "text": [
      "SubFolder Path:  C:\\Users\\isaac\\Desktop\\BigEarthTests\\SmallerSubset\\S2A_MSIL2A_20170613T101031_N9999_R022_T33UUP\\S2A_MSIL2A_20170613T101031_N9999_R022_T33UUP_59_69\\S2A_MSIL2A_20170613T101031_N9999_R022_T33UUP_59_69\n",
      "Dest SubFolder Path:  C:\\Users\\isaac\\Desktop\\BigEarthTests\\SmallerSubset\\CombinedImages\\S2A_MSIL2A_20170613T101031_N9999_R022_T33UUP\\S2A_MSIL2A_20170613T101031_N9999_R022_T33UUP_59_69.tif\n"
     ]
    },
    {
     "name": "stderr",
     "output_type": "stream",
     "text": []
    },
    {
     "name": "stdout",
     "output_type": "stream",
     "text": [
      "SubFolder Path:  C:\\Users\\isaac\\Desktop\\BigEarthTests\\SmallerSubset\\S2A_MSIL2A_20170613T101031_N9999_R022_T33UUP\\S2A_MSIL2A_20170613T101031_N9999_R022_T33UUP_61_74\\S2A_MSIL2A_20170613T101031_N9999_R022_T33UUP_61_74\n",
      "Dest SubFolder Path:  C:\\Users\\isaac\\Desktop\\BigEarthTests\\SmallerSubset\\CombinedImages\\S2A_MSIL2A_20170613T101031_N9999_R022_T33UUP\\S2A_MSIL2A_20170613T101031_N9999_R022_T33UUP_61_74.tif\n"
     ]
    },
    {
     "name": "stderr",
     "output_type": "stream",
     "text": []
    },
    {
     "name": "stdout",
     "output_type": "stream",
     "text": [
      "SubFolder Path:  C:\\Users\\isaac\\Desktop\\BigEarthTests\\SmallerSubset\\S2A_MSIL2A_20170613T101031_N9999_R022_T33UUP\\S2A_MSIL2A_20170613T101031_N9999_R022_T33UUP_62_86\\S2A_MSIL2A_20170613T101031_N9999_R022_T33UUP_62_86\n",
      "Dest SubFolder Path:  C:\\Users\\isaac\\Desktop\\BigEarthTests\\SmallerSubset\\CombinedImages\\S2A_MSIL2A_20170613T101031_N9999_R022_T33UUP\\S2A_MSIL2A_20170613T101031_N9999_R022_T33UUP_62_86.tif\n"
     ]
    },
    {
     "name": "stderr",
     "output_type": "stream",
     "text": []
    },
    {
     "name": "stdout",
     "output_type": "stream",
     "text": [
      "SubFolder Path:  C:\\Users\\isaac\\Desktop\\BigEarthTests\\SmallerSubset\\S2A_MSIL2A_20170613T101031_N9999_R022_T33UUP\\S2A_MSIL2A_20170613T101031_N9999_R022_T33UUP_63_52\\S2A_MSIL2A_20170613T101031_N9999_R022_T33UUP_63_52\n",
      "Dest SubFolder Path:  C:\\Users\\isaac\\Desktop\\BigEarthTests\\SmallerSubset\\CombinedImages\\S2A_MSIL2A_20170613T101031_N9999_R022_T33UUP\\S2A_MSIL2A_20170613T101031_N9999_R022_T33UUP_63_52.tif\n"
     ]
    },
    {
     "name": "stderr",
     "output_type": "stream",
     "text": []
    },
    {
     "name": "stdout",
     "output_type": "stream",
     "text": [
      "SubFolder Path:  C:\\Users\\isaac\\Desktop\\BigEarthTests\\SmallerSubset\\S2A_MSIL2A_20170613T101031_N9999_R022_T33UUP\\S2A_MSIL2A_20170613T101031_N9999_R022_T33UUP_65_40\\S2A_MSIL2A_20170613T101031_N9999_R022_T33UUP_65_40\n",
      "Dest SubFolder Path:  C:\\Users\\isaac\\Desktop\\BigEarthTests\\SmallerSubset\\CombinedImages\\S2A_MSIL2A_20170613T101031_N9999_R022_T33UUP\\S2A_MSIL2A_20170613T101031_N9999_R022_T33UUP_65_40.tif\n"
     ]
    },
    {
     "name": "stderr",
     "output_type": "stream",
     "text": []
    },
    {
     "name": "stdout",
     "output_type": "stream",
     "text": [
      "SubFolder Path:  C:\\Users\\isaac\\Desktop\\BigEarthTests\\SmallerSubset\\S2A_MSIL2A_20170613T101031_N9999_R022_T33UUP\\S2A_MSIL2A_20170613T101031_N9999_R022_T33UUP_66_67\\S2A_MSIL2A_20170613T101031_N9999_R022_T33UUP_66_67\n",
      "Dest SubFolder Path:  C:\\Users\\isaac\\Desktop\\BigEarthTests\\SmallerSubset\\CombinedImages\\S2A_MSIL2A_20170613T101031_N9999_R022_T33UUP\\S2A_MSIL2A_20170613T101031_N9999_R022_T33UUP_66_67.tif\n"
     ]
    },
    {
     "name": "stderr",
     "output_type": "stream",
     "text": []
    },
    {
     "name": "stdout",
     "output_type": "stream",
     "text": [
      "SubFolder Path:  C:\\Users\\isaac\\Desktop\\BigEarthTests\\SmallerSubset\\S2A_MSIL2A_20170613T101031_N9999_R022_T33UUP\\S2A_MSIL2A_20170613T101031_N9999_R022_T33UUP_67_47\\S2A_MSIL2A_20170613T101031_N9999_R022_T33UUP_67_47\n",
      "Dest SubFolder Path:  C:\\Users\\isaac\\Desktop\\BigEarthTests\\SmallerSubset\\CombinedImages\\S2A_MSIL2A_20170613T101031_N9999_R022_T33UUP\\S2A_MSIL2A_20170613T101031_N9999_R022_T33UUP_67_47.tif\n"
     ]
    },
    {
     "name": "stderr",
     "output_type": "stream",
     "text": []
    },
    {
     "name": "stdout",
     "output_type": "stream",
     "text": [
      "SubFolder Path:  C:\\Users\\isaac\\Desktop\\BigEarthTests\\SmallerSubset\\S2A_MSIL2A_20170613T101031_N9999_R022_T33UUP\\S2A_MSIL2A_20170613T101031_N9999_R022_T33UUP_67_88\\S2A_MSIL2A_20170613T101031_N9999_R022_T33UUP_67_88\n",
      "Dest SubFolder Path:  C:\\Users\\isaac\\Desktop\\BigEarthTests\\SmallerSubset\\CombinedImages\\S2A_MSIL2A_20170613T101031_N9999_R022_T33UUP\\S2A_MSIL2A_20170613T101031_N9999_R022_T33UUP_67_88.tif\n"
     ]
    },
    {
     "name": "stderr",
     "output_type": "stream",
     "text": []
    },
    {
     "name": "stdout",
     "output_type": "stream",
     "text": [
      "SubFolder Path:  C:\\Users\\isaac\\Desktop\\BigEarthTests\\SmallerSubset\\S2A_MSIL2A_20170613T101031_N9999_R022_T33UUP\\S2A_MSIL2A_20170613T101031_N9999_R022_T33UUP_69_43\\S2A_MSIL2A_20170613T101031_N9999_R022_T33UUP_69_43\n",
      "Dest SubFolder Path:  C:\\Users\\isaac\\Desktop\\BigEarthTests\\SmallerSubset\\CombinedImages\\S2A_MSIL2A_20170613T101031_N9999_R022_T33UUP\\S2A_MSIL2A_20170613T101031_N9999_R022_T33UUP_69_43.tif\n"
     ]
    },
    {
     "name": "stderr",
     "output_type": "stream",
     "text": []
    },
    {
     "name": "stdout",
     "output_type": "stream",
     "text": [
      "SubFolder Path:  C:\\Users\\isaac\\Desktop\\BigEarthTests\\SmallerSubset\\S2A_MSIL2A_20170613T101031_N9999_R022_T33UUP\\S2A_MSIL2A_20170613T101031_N9999_R022_T33UUP_70_34\\S2A_MSIL2A_20170613T101031_N9999_R022_T33UUP_70_34\n",
      "Dest SubFolder Path:  C:\\Users\\isaac\\Desktop\\BigEarthTests\\SmallerSubset\\CombinedImages\\S2A_MSIL2A_20170613T101031_N9999_R022_T33UUP\\S2A_MSIL2A_20170613T101031_N9999_R022_T33UUP_70_34.tif\n"
     ]
    },
    {
     "name": "stderr",
     "output_type": "stream",
     "text": []
    },
    {
     "name": "stdout",
     "output_type": "stream",
     "text": [
      "SubFolder Path:  C:\\Users\\isaac\\Desktop\\BigEarthTests\\SmallerSubset\\S2A_MSIL2A_20170613T101031_N9999_R022_T33UUP\\S2A_MSIL2A_20170613T101031_N9999_R022_T33UUP_77_51\\S2A_MSIL2A_20170613T101031_N9999_R022_T33UUP_77_51\n",
      "Dest SubFolder Path:  C:\\Users\\isaac\\Desktop\\BigEarthTests\\SmallerSubset\\CombinedImages\\S2A_MSIL2A_20170613T101031_N9999_R022_T33UUP\\S2A_MSIL2A_20170613T101031_N9999_R022_T33UUP_77_51.tif\n"
     ]
    },
    {
     "name": "stderr",
     "output_type": "stream",
     "text": []
    },
    {
     "name": "stdout",
     "output_type": "stream",
     "text": [
      "SubFolder Path:  C:\\Users\\isaac\\Desktop\\BigEarthTests\\SmallerSubset\\S2A_MSIL2A_20170613T101031_N9999_R022_T33UUP\\S2A_MSIL2A_20170613T101031_N9999_R022_T33UUP_79_50\\S2A_MSIL2A_20170613T101031_N9999_R022_T33UUP_79_50\n",
      "Dest SubFolder Path:  C:\\Users\\isaac\\Desktop\\BigEarthTests\\SmallerSubset\\CombinedImages\\S2A_MSIL2A_20170613T101031_N9999_R022_T33UUP\\S2A_MSIL2A_20170613T101031_N9999_R022_T33UUP_79_50.tif\n"
     ]
    },
    {
     "name": "stderr",
     "output_type": "stream",
     "text": []
    },
    {
     "name": "stdout",
     "output_type": "stream",
     "text": [
      "SubFolder Path:  C:\\Users\\isaac\\Desktop\\BigEarthTests\\SmallerSubset\\S2A_MSIL2A_20170613T101031_N9999_R022_T33UUP\\S2A_MSIL2A_20170613T101031_N9999_R022_T33UUP_79_76\\S2A_MSIL2A_20170613T101031_N9999_R022_T33UUP_79_76\n",
      "Dest SubFolder Path:  C:\\Users\\isaac\\Desktop\\BigEarthTests\\SmallerSubset\\CombinedImages\\S2A_MSIL2A_20170613T101031_N9999_R022_T33UUP\\S2A_MSIL2A_20170613T101031_N9999_R022_T33UUP_79_76.tif\n"
     ]
    },
    {
     "name": "stderr",
     "output_type": "stream",
     "text": []
    },
    {
     "name": "stdout",
     "output_type": "stream",
     "text": [
      "SubFolder Path:  C:\\Users\\isaac\\Desktop\\BigEarthTests\\SmallerSubset\\S2A_MSIL2A_20170613T101031_N9999_R022_T33UUP\\S2A_MSIL2A_20170613T101031_N9999_R022_T33UUP_80_58\\S2A_MSIL2A_20170613T101031_N9999_R022_T33UUP_80_58\n",
      "Dest SubFolder Path:  C:\\Users\\isaac\\Desktop\\BigEarthTests\\SmallerSubset\\CombinedImages\\S2A_MSIL2A_20170613T101031_N9999_R022_T33UUP\\S2A_MSIL2A_20170613T101031_N9999_R022_T33UUP_80_58.tif\n"
     ]
    },
    {
     "name": "stderr",
     "output_type": "stream",
     "text": []
    },
    {
     "name": "stdout",
     "output_type": "stream",
     "text": [
      "SubFolder Path:  C:\\Users\\isaac\\Desktop\\BigEarthTests\\SmallerSubset\\S2A_MSIL2A_20170613T101031_N9999_R022_T33UUP\\S2A_MSIL2A_20170613T101031_N9999_R022_T33UUP_81_59\\S2A_MSIL2A_20170613T101031_N9999_R022_T33UUP_81_59\n",
      "Dest SubFolder Path:  C:\\Users\\isaac\\Desktop\\BigEarthTests\\SmallerSubset\\CombinedImages\\S2A_MSIL2A_20170613T101031_N9999_R022_T33UUP\\S2A_MSIL2A_20170613T101031_N9999_R022_T33UUP_81_59.tif\n"
     ]
    },
    {
     "name": "stderr",
     "output_type": "stream",
     "text": []
    },
    {
     "name": "stdout",
     "output_type": "stream",
     "text": [
      "SubFolder Path:  C:\\Users\\isaac\\Desktop\\BigEarthTests\\SmallerSubset\\S2A_MSIL2A_20170613T101031_N9999_R022_T33UUP\\S2A_MSIL2A_20170613T101031_N9999_R022_T33UUP_83_18\\S2A_MSIL2A_20170613T101031_N9999_R022_T33UUP_83_18\n",
      "Dest SubFolder Path:  C:\\Users\\isaac\\Desktop\\BigEarthTests\\SmallerSubset\\CombinedImages\\S2A_MSIL2A_20170613T101031_N9999_R022_T33UUP\\S2A_MSIL2A_20170613T101031_N9999_R022_T33UUP_83_18.tif\n"
     ]
    },
    {
     "name": "stderr",
     "output_type": "stream",
     "text": []
    },
    {
     "name": "stdout",
     "output_type": "stream",
     "text": [
      "SubFolder Path:  C:\\Users\\isaac\\Desktop\\BigEarthTests\\SmallerSubset\\S2A_MSIL2A_20170613T101031_N9999_R022_T33UUP\\S2A_MSIL2A_20170613T101031_N9999_R022_T33UUP_83_58\\S2A_MSIL2A_20170613T101031_N9999_R022_T33UUP_83_58\n",
      "Dest SubFolder Path:  C:\\Users\\isaac\\Desktop\\BigEarthTests\\SmallerSubset\\CombinedImages\\S2A_MSIL2A_20170613T101031_N9999_R022_T33UUP\\S2A_MSIL2A_20170613T101031_N9999_R022_T33UUP_83_58.tif\n"
     ]
    },
    {
     "name": "stderr",
     "output_type": "stream",
     "text": []
    },
    {
     "name": "stdout",
     "output_type": "stream",
     "text": [
      "SubFolder Path:  C:\\Users\\isaac\\Desktop\\BigEarthTests\\SmallerSubset\\S2A_MSIL2A_20170613T101031_N9999_R022_T33UUP\\S2A_MSIL2A_20170613T101031_N9999_R022_T33UUP_83_83\\S2A_MSIL2A_20170613T101031_N9999_R022_T33UUP_83_83\n",
      "Dest SubFolder Path:  C:\\Users\\isaac\\Desktop\\BigEarthTests\\SmallerSubset\\CombinedImages\\S2A_MSIL2A_20170613T101031_N9999_R022_T33UUP\\S2A_MSIL2A_20170613T101031_N9999_R022_T33UUP_83_83.tif\n"
     ]
    },
    {
     "name": "stderr",
     "output_type": "stream",
     "text": []
    },
    {
     "name": "stdout",
     "output_type": "stream",
     "text": [
      "SubFolder Path:  C:\\Users\\isaac\\Desktop\\BigEarthTests\\SmallerSubset\\S2A_MSIL2A_20170613T101031_N9999_R022_T33UUP\\S2A_MSIL2A_20170613T101031_N9999_R022_T33UUP_84_55\\S2A_MSIL2A_20170613T101031_N9999_R022_T33UUP_84_55\n",
      "Dest SubFolder Path:  C:\\Users\\isaac\\Desktop\\BigEarthTests\\SmallerSubset\\CombinedImages\\S2A_MSIL2A_20170613T101031_N9999_R022_T33UUP\\S2A_MSIL2A_20170613T101031_N9999_R022_T33UUP_84_55.tif\n"
     ]
    },
    {
     "name": "stderr",
     "output_type": "stream",
     "text": []
    },
    {
     "name": "stdout",
     "output_type": "stream",
     "text": [
      "SubFolder Path:  C:\\Users\\isaac\\Desktop\\BigEarthTests\\SmallerSubset\\S2A_MSIL2A_20170613T101031_N9999_R022_T33UUP\\S2A_MSIL2A_20170613T101031_N9999_R022_T33UUP_85_19\\S2A_MSIL2A_20170613T101031_N9999_R022_T33UUP_85_19\n",
      "Dest SubFolder Path:  C:\\Users\\isaac\\Desktop\\BigEarthTests\\SmallerSubset\\CombinedImages\\S2A_MSIL2A_20170613T101031_N9999_R022_T33UUP\\S2A_MSIL2A_20170613T101031_N9999_R022_T33UUP_85_19.tif\n"
     ]
    },
    {
     "name": "stderr",
     "output_type": "stream",
     "text": []
    },
    {
     "name": "stdout",
     "output_type": "stream",
     "text": [
      "SubFolder Path:  C:\\Users\\isaac\\Desktop\\BigEarthTests\\SmallerSubset\\S2A_MSIL2A_20170613T101031_N9999_R022_T33UUP\\S2A_MSIL2A_20170613T101031_N9999_R022_T33UUP_86_84\\S2A_MSIL2A_20170613T101031_N9999_R022_T33UUP_86_84\n",
      "Dest SubFolder Path:  C:\\Users\\isaac\\Desktop\\BigEarthTests\\SmallerSubset\\CombinedImages\\S2A_MSIL2A_20170613T101031_N9999_R022_T33UUP\\S2A_MSIL2A_20170613T101031_N9999_R022_T33UUP_86_84.tif\n"
     ]
    },
    {
     "name": "stderr",
     "output_type": "stream",
     "text": [
      "Processing folders:  50%|█████     | 1/2 [00:27<00:27, 27.44s/it]"
     ]
    },
    {
     "name": "stdout",
     "output_type": "stream",
     "text": [
      "SubFolder Path:  C:\\Users\\isaac\\Desktop\\BigEarthTests\\SmallerSubset\\S2A_MSIL2A_20170613T101031_N9999_R022_T34VER\\S2A_MSIL2A_20170613T101031_N9999_R022_T34VER_01_54\\S2A_MSIL2A_20170613T101031_N9999_R022_T34VER_01_54\n",
      "Dest SubFolder Path:  C:\\Users\\isaac\\Desktop\\BigEarthTests\\SmallerSubset\\CombinedImages\\S2A_MSIL2A_20170613T101031_N9999_R022_T34VER\\S2A_MSIL2A_20170613T101031_N9999_R022_T34VER_01_54.tif\n"
     ]
    },
    {
     "name": "stderr",
     "output_type": "stream",
     "text": []
    },
    {
     "name": "stdout",
     "output_type": "stream",
     "text": [
      "SubFolder Path:  C:\\Users\\isaac\\Desktop\\BigEarthTests\\SmallerSubset\\S2A_MSIL2A_20170613T101031_N9999_R022_T34VER\\S2A_MSIL2A_20170613T101031_N9999_R022_T34VER_01_69\\S2A_MSIL2A_20170613T101031_N9999_R022_T34VER_01_69\n",
      "Dest SubFolder Path:  C:\\Users\\isaac\\Desktop\\BigEarthTests\\SmallerSubset\\CombinedImages\\S2A_MSIL2A_20170613T101031_N9999_R022_T34VER\\S2A_MSIL2A_20170613T101031_N9999_R022_T34VER_01_69.tif\n"
     ]
    },
    {
     "name": "stderr",
     "output_type": "stream",
     "text": []
    },
    {
     "name": "stdout",
     "output_type": "stream",
     "text": [
      "SubFolder Path:  C:\\Users\\isaac\\Desktop\\BigEarthTests\\SmallerSubset\\S2A_MSIL2A_20170613T101031_N9999_R022_T34VER\\S2A_MSIL2A_20170613T101031_N9999_R022_T34VER_15_60\\S2A_MSIL2A_20170613T101031_N9999_R022_T34VER_15_60\n",
      "Dest SubFolder Path:  C:\\Users\\isaac\\Desktop\\BigEarthTests\\SmallerSubset\\CombinedImages\\S2A_MSIL2A_20170613T101031_N9999_R022_T34VER\\S2A_MSIL2A_20170613T101031_N9999_R022_T34VER_15_60.tif\n"
     ]
    },
    {
     "name": "stderr",
     "output_type": "stream",
     "text": []
    },
    {
     "name": "stdout",
     "output_type": "stream",
     "text": [
      "SubFolder Path:  C:\\Users\\isaac\\Desktop\\BigEarthTests\\SmallerSubset\\S2A_MSIL2A_20170613T101031_N9999_R022_T34VER\\S2A_MSIL2A_20170613T101031_N9999_R022_T34VER_18_72\\S2A_MSIL2A_20170613T101031_N9999_R022_T34VER_18_72\n",
      "Dest SubFolder Path:  C:\\Users\\isaac\\Desktop\\BigEarthTests\\SmallerSubset\\CombinedImages\\S2A_MSIL2A_20170613T101031_N9999_R022_T34VER\\S2A_MSIL2A_20170613T101031_N9999_R022_T34VER_18_72.tif\n"
     ]
    },
    {
     "name": "stderr",
     "output_type": "stream",
     "text": []
    },
    {
     "name": "stdout",
     "output_type": "stream",
     "text": [
      "SubFolder Path:  C:\\Users\\isaac\\Desktop\\BigEarthTests\\SmallerSubset\\S2A_MSIL2A_20170613T101031_N9999_R022_T34VER\\S2A_MSIL2A_20170613T101031_N9999_R022_T34VER_19_42\\S2A_MSIL2A_20170613T101031_N9999_R022_T34VER_19_42\n",
      "Dest SubFolder Path:  C:\\Users\\isaac\\Desktop\\BigEarthTests\\SmallerSubset\\CombinedImages\\S2A_MSIL2A_20170613T101031_N9999_R022_T34VER\\S2A_MSIL2A_20170613T101031_N9999_R022_T34VER_19_42.tif\n"
     ]
    },
    {
     "name": "stderr",
     "output_type": "stream",
     "text": []
    },
    {
     "name": "stdout",
     "output_type": "stream",
     "text": [
      "SubFolder Path:  C:\\Users\\isaac\\Desktop\\BigEarthTests\\SmallerSubset\\S2A_MSIL2A_20170613T101031_N9999_R022_T34VER\\S2A_MSIL2A_20170613T101031_N9999_R022_T34VER_19_50\\S2A_MSIL2A_20170613T101031_N9999_R022_T34VER_19_50\n",
      "Dest SubFolder Path:  C:\\Users\\isaac\\Desktop\\BigEarthTests\\SmallerSubset\\CombinedImages\\S2A_MSIL2A_20170613T101031_N9999_R022_T34VER\\S2A_MSIL2A_20170613T101031_N9999_R022_T34VER_19_50.tif\n"
     ]
    },
    {
     "name": "stderr",
     "output_type": "stream",
     "text": []
    },
    {
     "name": "stdout",
     "output_type": "stream",
     "text": [
      "SubFolder Path:  C:\\Users\\isaac\\Desktop\\BigEarthTests\\SmallerSubset\\S2A_MSIL2A_20170613T101031_N9999_R022_T34VER\\S2A_MSIL2A_20170613T101031_N9999_R022_T34VER_20_52\\S2A_MSIL2A_20170613T101031_N9999_R022_T34VER_20_52\n",
      "Dest SubFolder Path:  C:\\Users\\isaac\\Desktop\\BigEarthTests\\SmallerSubset\\CombinedImages\\S2A_MSIL2A_20170613T101031_N9999_R022_T34VER\\S2A_MSIL2A_20170613T101031_N9999_R022_T34VER_20_52.tif\n"
     ]
    },
    {
     "name": "stderr",
     "output_type": "stream",
     "text": []
    },
    {
     "name": "stdout",
     "output_type": "stream",
     "text": [
      "SubFolder Path:  C:\\Users\\isaac\\Desktop\\BigEarthTests\\SmallerSubset\\S2A_MSIL2A_20170613T101031_N9999_R022_T34VER\\S2A_MSIL2A_20170613T101031_N9999_R022_T34VER_22_61\\S2A_MSIL2A_20170613T101031_N9999_R022_T34VER_22_61\n",
      "Dest SubFolder Path:  C:\\Users\\isaac\\Desktop\\BigEarthTests\\SmallerSubset\\CombinedImages\\S2A_MSIL2A_20170613T101031_N9999_R022_T34VER\\S2A_MSIL2A_20170613T101031_N9999_R022_T34VER_22_61.tif\n"
     ]
    },
    {
     "name": "stderr",
     "output_type": "stream",
     "text": []
    },
    {
     "name": "stdout",
     "output_type": "stream",
     "text": [
      "SubFolder Path:  C:\\Users\\isaac\\Desktop\\BigEarthTests\\SmallerSubset\\S2A_MSIL2A_20170613T101031_N9999_R022_T34VER\\S2A_MSIL2A_20170613T101031_N9999_R022_T34VER_22_65\\S2A_MSIL2A_20170613T101031_N9999_R022_T34VER_22_65\n",
      "Dest SubFolder Path:  C:\\Users\\isaac\\Desktop\\BigEarthTests\\SmallerSubset\\CombinedImages\\S2A_MSIL2A_20170613T101031_N9999_R022_T34VER\\S2A_MSIL2A_20170613T101031_N9999_R022_T34VER_22_65.tif\n"
     ]
    },
    {
     "name": "stderr",
     "output_type": "stream",
     "text": []
    },
    {
     "name": "stdout",
     "output_type": "stream",
     "text": [
      "SubFolder Path:  C:\\Users\\isaac\\Desktop\\BigEarthTests\\SmallerSubset\\S2A_MSIL2A_20170613T101031_N9999_R022_T34VER\\S2A_MSIL2A_20170613T101031_N9999_R022_T34VER_22_72\\S2A_MSIL2A_20170613T101031_N9999_R022_T34VER_22_72\n",
      "Dest SubFolder Path:  C:\\Users\\isaac\\Desktop\\BigEarthTests\\SmallerSubset\\CombinedImages\\S2A_MSIL2A_20170613T101031_N9999_R022_T34VER\\S2A_MSIL2A_20170613T101031_N9999_R022_T34VER_22_72.tif\n"
     ]
    },
    {
     "name": "stderr",
     "output_type": "stream",
     "text": []
    },
    {
     "name": "stdout",
     "output_type": "stream",
     "text": [
      "SubFolder Path:  C:\\Users\\isaac\\Desktop\\BigEarthTests\\SmallerSubset\\S2A_MSIL2A_20170613T101031_N9999_R022_T34VER\\S2A_MSIL2A_20170613T101031_N9999_R022_T34VER_23_48\\S2A_MSIL2A_20170613T101031_N9999_R022_T34VER_23_48\n",
      "Dest SubFolder Path:  C:\\Users\\isaac\\Desktop\\BigEarthTests\\SmallerSubset\\CombinedImages\\S2A_MSIL2A_20170613T101031_N9999_R022_T34VER\\S2A_MSIL2A_20170613T101031_N9999_R022_T34VER_23_48.tif\n"
     ]
    },
    {
     "name": "stderr",
     "output_type": "stream",
     "text": []
    },
    {
     "name": "stdout",
     "output_type": "stream",
     "text": [
      "SubFolder Path:  C:\\Users\\isaac\\Desktop\\BigEarthTests\\SmallerSubset\\S2A_MSIL2A_20170613T101031_N9999_R022_T34VER\\S2A_MSIL2A_20170613T101031_N9999_R022_T34VER_25_55\\S2A_MSIL2A_20170613T101031_N9999_R022_T34VER_25_55\n",
      "Dest SubFolder Path:  C:\\Users\\isaac\\Desktop\\BigEarthTests\\SmallerSubset\\CombinedImages\\S2A_MSIL2A_20170613T101031_N9999_R022_T34VER\\S2A_MSIL2A_20170613T101031_N9999_R022_T34VER_25_55.tif\n"
     ]
    },
    {
     "name": "stderr",
     "output_type": "stream",
     "text": []
    },
    {
     "name": "stdout",
     "output_type": "stream",
     "text": [
      "SubFolder Path:  C:\\Users\\isaac\\Desktop\\BigEarthTests\\SmallerSubset\\S2A_MSIL2A_20170613T101031_N9999_R022_T34VER\\S2A_MSIL2A_20170613T101031_N9999_R022_T34VER_26_81\\S2A_MSIL2A_20170613T101031_N9999_R022_T34VER_26_81\n",
      "Dest SubFolder Path:  C:\\Users\\isaac\\Desktop\\BigEarthTests\\SmallerSubset\\CombinedImages\\S2A_MSIL2A_20170613T101031_N9999_R022_T34VER\\S2A_MSIL2A_20170613T101031_N9999_R022_T34VER_26_81.tif\n"
     ]
    },
    {
     "name": "stderr",
     "output_type": "stream",
     "text": []
    },
    {
     "name": "stdout",
     "output_type": "stream",
     "text": [
      "SubFolder Path:  C:\\Users\\isaac\\Desktop\\BigEarthTests\\SmallerSubset\\S2A_MSIL2A_20170613T101031_N9999_R022_T34VER\\S2A_MSIL2A_20170613T101031_N9999_R022_T34VER_27_77\\S2A_MSIL2A_20170613T101031_N9999_R022_T34VER_27_77\n",
      "Dest SubFolder Path:  C:\\Users\\isaac\\Desktop\\BigEarthTests\\SmallerSubset\\CombinedImages\\S2A_MSIL2A_20170613T101031_N9999_R022_T34VER\\S2A_MSIL2A_20170613T101031_N9999_R022_T34VER_27_77.tif\n"
     ]
    },
    {
     "name": "stderr",
     "output_type": "stream",
     "text": []
    },
    {
     "name": "stdout",
     "output_type": "stream",
     "text": [
      "SubFolder Path:  C:\\Users\\isaac\\Desktop\\BigEarthTests\\SmallerSubset\\S2A_MSIL2A_20170613T101031_N9999_R022_T34VER\\S2A_MSIL2A_20170613T101031_N9999_R022_T34VER_30_51\\S2A_MSIL2A_20170613T101031_N9999_R022_T34VER_30_51\n",
      "Dest SubFolder Path:  C:\\Users\\isaac\\Desktop\\BigEarthTests\\SmallerSubset\\CombinedImages\\S2A_MSIL2A_20170613T101031_N9999_R022_T34VER\\S2A_MSIL2A_20170613T101031_N9999_R022_T34VER_30_51.tif\n"
     ]
    },
    {
     "name": "stderr",
     "output_type": "stream",
     "text": []
    },
    {
     "name": "stdout",
     "output_type": "stream",
     "text": [
      "SubFolder Path:  C:\\Users\\isaac\\Desktop\\BigEarthTests\\SmallerSubset\\S2A_MSIL2A_20170613T101031_N9999_R022_T34VER\\S2A_MSIL2A_20170613T101031_N9999_R022_T34VER_30_84\\S2A_MSIL2A_20170613T101031_N9999_R022_T34VER_30_84\n",
      "Dest SubFolder Path:  C:\\Users\\isaac\\Desktop\\BigEarthTests\\SmallerSubset\\CombinedImages\\S2A_MSIL2A_20170613T101031_N9999_R022_T34VER\\S2A_MSIL2A_20170613T101031_N9999_R022_T34VER_30_84.tif\n"
     ]
    },
    {
     "name": "stderr",
     "output_type": "stream",
     "text": []
    },
    {
     "name": "stdout",
     "output_type": "stream",
     "text": [
      "SubFolder Path:  C:\\Users\\isaac\\Desktop\\BigEarthTests\\SmallerSubset\\S2A_MSIL2A_20170613T101031_N9999_R022_T34VER\\S2A_MSIL2A_20170613T101031_N9999_R022_T34VER_35_79\\S2A_MSIL2A_20170613T101031_N9999_R022_T34VER_35_79\n",
      "Dest SubFolder Path:  C:\\Users\\isaac\\Desktop\\BigEarthTests\\SmallerSubset\\CombinedImages\\S2A_MSIL2A_20170613T101031_N9999_R022_T34VER\\S2A_MSIL2A_20170613T101031_N9999_R022_T34VER_35_79.tif\n"
     ]
    },
    {
     "name": "stderr",
     "output_type": "stream",
     "text": []
    },
    {
     "name": "stdout",
     "output_type": "stream",
     "text": [
      "SubFolder Path:  C:\\Users\\isaac\\Desktop\\BigEarthTests\\SmallerSubset\\S2A_MSIL2A_20170613T101031_N9999_R022_T34VER\\S2A_MSIL2A_20170613T101031_N9999_R022_T34VER_36_38\\S2A_MSIL2A_20170613T101031_N9999_R022_T34VER_36_38\n",
      "Dest SubFolder Path:  C:\\Users\\isaac\\Desktop\\BigEarthTests\\SmallerSubset\\CombinedImages\\S2A_MSIL2A_20170613T101031_N9999_R022_T34VER\\S2A_MSIL2A_20170613T101031_N9999_R022_T34VER_36_38.tif\n"
     ]
    },
    {
     "name": "stderr",
     "output_type": "stream",
     "text": []
    },
    {
     "name": "stdout",
     "output_type": "stream",
     "text": [
      "SubFolder Path:  C:\\Users\\isaac\\Desktop\\BigEarthTests\\SmallerSubset\\S2A_MSIL2A_20170613T101031_N9999_R022_T34VER\\S2A_MSIL2A_20170613T101031_N9999_R022_T34VER_39_79\\S2A_MSIL2A_20170613T101031_N9999_R022_T34VER_39_79\n",
      "Dest SubFolder Path:  C:\\Users\\isaac\\Desktop\\BigEarthTests\\SmallerSubset\\CombinedImages\\S2A_MSIL2A_20170613T101031_N9999_R022_T34VER\\S2A_MSIL2A_20170613T101031_N9999_R022_T34VER_39_79.tif\n"
     ]
    },
    {
     "name": "stderr",
     "output_type": "stream",
     "text": []
    },
    {
     "name": "stdout",
     "output_type": "stream",
     "text": [
      "SubFolder Path:  C:\\Users\\isaac\\Desktop\\BigEarthTests\\SmallerSubset\\S2A_MSIL2A_20170613T101031_N9999_R022_T34VER\\S2A_MSIL2A_20170613T101031_N9999_R022_T34VER_40_89\\S2A_MSIL2A_20170613T101031_N9999_R022_T34VER_40_89\n",
      "Dest SubFolder Path:  C:\\Users\\isaac\\Desktop\\BigEarthTests\\SmallerSubset\\CombinedImages\\S2A_MSIL2A_20170613T101031_N9999_R022_T34VER\\S2A_MSIL2A_20170613T101031_N9999_R022_T34VER_40_89.tif\n"
     ]
    },
    {
     "name": "stderr",
     "output_type": "stream",
     "text": []
    },
    {
     "name": "stdout",
     "output_type": "stream",
     "text": [
      "SubFolder Path:  C:\\Users\\isaac\\Desktop\\BigEarthTests\\SmallerSubset\\S2A_MSIL2A_20170613T101031_N9999_R022_T34VER\\S2A_MSIL2A_20170613T101031_N9999_R022_T34VER_41_73\\S2A_MSIL2A_20170613T101031_N9999_R022_T34VER_41_73\n",
      "Dest SubFolder Path:  C:\\Users\\isaac\\Desktop\\BigEarthTests\\SmallerSubset\\CombinedImages\\S2A_MSIL2A_20170613T101031_N9999_R022_T34VER\\S2A_MSIL2A_20170613T101031_N9999_R022_T34VER_41_73.tif\n"
     ]
    },
    {
     "name": "stderr",
     "output_type": "stream",
     "text": []
    },
    {
     "name": "stdout",
     "output_type": "stream",
     "text": [
      "SubFolder Path:  C:\\Users\\isaac\\Desktop\\BigEarthTests\\SmallerSubset\\S2A_MSIL2A_20170613T101031_N9999_R022_T34VER\\S2A_MSIL2A_20170613T101031_N9999_R022_T34VER_42_46\\S2A_MSIL2A_20170613T101031_N9999_R022_T34VER_42_46\n",
      "Dest SubFolder Path:  C:\\Users\\isaac\\Desktop\\BigEarthTests\\SmallerSubset\\CombinedImages\\S2A_MSIL2A_20170613T101031_N9999_R022_T34VER\\S2A_MSIL2A_20170613T101031_N9999_R022_T34VER_42_46.tif\n"
     ]
    },
    {
     "name": "stderr",
     "output_type": "stream",
     "text": []
    },
    {
     "name": "stdout",
     "output_type": "stream",
     "text": [
      "SubFolder Path:  C:\\Users\\isaac\\Desktop\\BigEarthTests\\SmallerSubset\\S2A_MSIL2A_20170613T101031_N9999_R022_T34VER\\S2A_MSIL2A_20170613T101031_N9999_R022_T34VER_43_86\\S2A_MSIL2A_20170613T101031_N9999_R022_T34VER_43_86\n",
      "Dest SubFolder Path:  C:\\Users\\isaac\\Desktop\\BigEarthTests\\SmallerSubset\\CombinedImages\\S2A_MSIL2A_20170613T101031_N9999_R022_T34VER\\S2A_MSIL2A_20170613T101031_N9999_R022_T34VER_43_86.tif\n"
     ]
    },
    {
     "name": "stderr",
     "output_type": "stream",
     "text": []
    },
    {
     "name": "stdout",
     "output_type": "stream",
     "text": [
      "SubFolder Path:  C:\\Users\\isaac\\Desktop\\BigEarthTests\\SmallerSubset\\S2A_MSIL2A_20170613T101031_N9999_R022_T34VER\\S2A_MSIL2A_20170613T101031_N9999_R022_T34VER_47_88\\S2A_MSIL2A_20170613T101031_N9999_R022_T34VER_47_88\n",
      "Dest SubFolder Path:  C:\\Users\\isaac\\Desktop\\BigEarthTests\\SmallerSubset\\CombinedImages\\S2A_MSIL2A_20170613T101031_N9999_R022_T34VER\\S2A_MSIL2A_20170613T101031_N9999_R022_T34VER_47_88.tif\n"
     ]
    },
    {
     "name": "stderr",
     "output_type": "stream",
     "text": []
    },
    {
     "name": "stdout",
     "output_type": "stream",
     "text": [
      "SubFolder Path:  C:\\Users\\isaac\\Desktop\\BigEarthTests\\SmallerSubset\\S2A_MSIL2A_20170613T101031_N9999_R022_T34VER\\S2A_MSIL2A_20170613T101031_N9999_R022_T34VER_49_60\\S2A_MSIL2A_20170613T101031_N9999_R022_T34VER_49_60\n",
      "Dest SubFolder Path:  C:\\Users\\isaac\\Desktop\\BigEarthTests\\SmallerSubset\\CombinedImages\\S2A_MSIL2A_20170613T101031_N9999_R022_T34VER\\S2A_MSIL2A_20170613T101031_N9999_R022_T34VER_49_60.tif\n"
     ]
    },
    {
     "name": "stderr",
     "output_type": "stream",
     "text": []
    },
    {
     "name": "stdout",
     "output_type": "stream",
     "text": [
      "SubFolder Path:  C:\\Users\\isaac\\Desktop\\BigEarthTests\\SmallerSubset\\S2A_MSIL2A_20170613T101031_N9999_R022_T34VER\\S2A_MSIL2A_20170613T101031_N9999_R022_T34VER_52_49\\S2A_MSIL2A_20170613T101031_N9999_R022_T34VER_52_49\n",
      "Dest SubFolder Path:  C:\\Users\\isaac\\Desktop\\BigEarthTests\\SmallerSubset\\CombinedImages\\S2A_MSIL2A_20170613T101031_N9999_R022_T34VER\\S2A_MSIL2A_20170613T101031_N9999_R022_T34VER_52_49.tif\n"
     ]
    },
    {
     "name": "stderr",
     "output_type": "stream",
     "text": []
    },
    {
     "name": "stdout",
     "output_type": "stream",
     "text": [
      "SubFolder Path:  C:\\Users\\isaac\\Desktop\\BigEarthTests\\SmallerSubset\\S2A_MSIL2A_20170613T101031_N9999_R022_T34VER\\S2A_MSIL2A_20170613T101031_N9999_R022_T34VER_52_54\\S2A_MSIL2A_20170613T101031_N9999_R022_T34VER_52_54\n",
      "Dest SubFolder Path:  C:\\Users\\isaac\\Desktop\\BigEarthTests\\SmallerSubset\\CombinedImages\\S2A_MSIL2A_20170613T101031_N9999_R022_T34VER\\S2A_MSIL2A_20170613T101031_N9999_R022_T34VER_52_54.tif\n"
     ]
    },
    {
     "name": "stderr",
     "output_type": "stream",
     "text": []
    },
    {
     "name": "stdout",
     "output_type": "stream",
     "text": [
      "SubFolder Path:  C:\\Users\\isaac\\Desktop\\BigEarthTests\\SmallerSubset\\S2A_MSIL2A_20170613T101031_N9999_R022_T34VER\\S2A_MSIL2A_20170613T101031_N9999_R022_T34VER_54_84\\S2A_MSIL2A_20170613T101031_N9999_R022_T34VER_54_84\n",
      "Dest SubFolder Path:  C:\\Users\\isaac\\Desktop\\BigEarthTests\\SmallerSubset\\CombinedImages\\S2A_MSIL2A_20170613T101031_N9999_R022_T34VER\\S2A_MSIL2A_20170613T101031_N9999_R022_T34VER_54_84.tif\n"
     ]
    },
    {
     "name": "stderr",
     "output_type": "stream",
     "text": []
    },
    {
     "name": "stdout",
     "output_type": "stream",
     "text": [
      "SubFolder Path:  C:\\Users\\isaac\\Desktop\\BigEarthTests\\SmallerSubset\\S2A_MSIL2A_20170613T101031_N9999_R022_T34VER\\S2A_MSIL2A_20170613T101031_N9999_R022_T34VER_56_57\\S2A_MSIL2A_20170613T101031_N9999_R022_T34VER_56_57\n",
      "Dest SubFolder Path:  C:\\Users\\isaac\\Desktop\\BigEarthTests\\SmallerSubset\\CombinedImages\\S2A_MSIL2A_20170613T101031_N9999_R022_T34VER\\S2A_MSIL2A_20170613T101031_N9999_R022_T34VER_56_57.tif\n"
     ]
    },
    {
     "name": "stderr",
     "output_type": "stream",
     "text": []
    },
    {
     "name": "stdout",
     "output_type": "stream",
     "text": [
      "SubFolder Path:  C:\\Users\\isaac\\Desktop\\BigEarthTests\\SmallerSubset\\S2A_MSIL2A_20170613T101031_N9999_R022_T34VER\\S2A_MSIL2A_20170613T101031_N9999_R022_T34VER_57_62\\S2A_MSIL2A_20170613T101031_N9999_R022_T34VER_57_62\n",
      "Dest SubFolder Path:  C:\\Users\\isaac\\Desktop\\BigEarthTests\\SmallerSubset\\CombinedImages\\S2A_MSIL2A_20170613T101031_N9999_R022_T34VER\\S2A_MSIL2A_20170613T101031_N9999_R022_T34VER_57_62.tif\n"
     ]
    },
    {
     "name": "stderr",
     "output_type": "stream",
     "text": []
    },
    {
     "name": "stdout",
     "output_type": "stream",
     "text": [
      "SubFolder Path:  C:\\Users\\isaac\\Desktop\\BigEarthTests\\SmallerSubset\\S2A_MSIL2A_20170613T101031_N9999_R022_T34VER\\S2A_MSIL2A_20170613T101031_N9999_R022_T34VER_57_86\\S2A_MSIL2A_20170613T101031_N9999_R022_T34VER_57_86\n",
      "Dest SubFolder Path:  C:\\Users\\isaac\\Desktop\\BigEarthTests\\SmallerSubset\\CombinedImages\\S2A_MSIL2A_20170613T101031_N9999_R022_T34VER\\S2A_MSIL2A_20170613T101031_N9999_R022_T34VER_57_86.tif\n"
     ]
    },
    {
     "name": "stderr",
     "output_type": "stream",
     "text": []
    },
    {
     "name": "stdout",
     "output_type": "stream",
     "text": [
      "SubFolder Path:  C:\\Users\\isaac\\Desktop\\BigEarthTests\\SmallerSubset\\S2A_MSIL2A_20170613T101031_N9999_R022_T34VER\\S2A_MSIL2A_20170613T101031_N9999_R022_T34VER_59_10\\S2A_MSIL2A_20170613T101031_N9999_R022_T34VER_59_10\n",
      "Dest SubFolder Path:  C:\\Users\\isaac\\Desktop\\BigEarthTests\\SmallerSubset\\CombinedImages\\S2A_MSIL2A_20170613T101031_N9999_R022_T34VER\\S2A_MSIL2A_20170613T101031_N9999_R022_T34VER_59_10.tif\n"
     ]
    },
    {
     "name": "stderr",
     "output_type": "stream",
     "text": []
    },
    {
     "name": "stdout",
     "output_type": "stream",
     "text": [
      "SubFolder Path:  C:\\Users\\isaac\\Desktop\\BigEarthTests\\SmallerSubset\\S2A_MSIL2A_20170613T101031_N9999_R022_T34VER\\S2A_MSIL2A_20170613T101031_N9999_R022_T34VER_61_34\\S2A_MSIL2A_20170613T101031_N9999_R022_T34VER_61_34\n",
      "Dest SubFolder Path:  C:\\Users\\isaac\\Desktop\\BigEarthTests\\SmallerSubset\\CombinedImages\\S2A_MSIL2A_20170613T101031_N9999_R022_T34VER\\S2A_MSIL2A_20170613T101031_N9999_R022_T34VER_61_34.tif\n"
     ]
    },
    {
     "name": "stderr",
     "output_type": "stream",
     "text": []
    },
    {
     "name": "stdout",
     "output_type": "stream",
     "text": [
      "SubFolder Path:  C:\\Users\\isaac\\Desktop\\BigEarthTests\\SmallerSubset\\S2A_MSIL2A_20170613T101031_N9999_R022_T34VER\\S2A_MSIL2A_20170613T101031_N9999_R022_T34VER_61_55\\S2A_MSIL2A_20170613T101031_N9999_R022_T34VER_61_55\n",
      "Dest SubFolder Path:  C:\\Users\\isaac\\Desktop\\BigEarthTests\\SmallerSubset\\CombinedImages\\S2A_MSIL2A_20170613T101031_N9999_R022_T34VER\\S2A_MSIL2A_20170613T101031_N9999_R022_T34VER_61_55.tif\n"
     ]
    },
    {
     "name": "stderr",
     "output_type": "stream",
     "text": []
    },
    {
     "name": "stdout",
     "output_type": "stream",
     "text": [
      "SubFolder Path:  C:\\Users\\isaac\\Desktop\\BigEarthTests\\SmallerSubset\\S2A_MSIL2A_20170613T101031_N9999_R022_T34VER\\S2A_MSIL2A_20170613T101031_N9999_R022_T34VER_62_07\\S2A_MSIL2A_20170613T101031_N9999_R022_T34VER_62_07\n",
      "Dest SubFolder Path:  C:\\Users\\isaac\\Desktop\\BigEarthTests\\SmallerSubset\\CombinedImages\\S2A_MSIL2A_20170613T101031_N9999_R022_T34VER\\S2A_MSIL2A_20170613T101031_N9999_R022_T34VER_62_07.tif\n"
     ]
    },
    {
     "name": "stderr",
     "output_type": "stream",
     "text": []
    },
    {
     "name": "stdout",
     "output_type": "stream",
     "text": [
      "SubFolder Path:  C:\\Users\\isaac\\Desktop\\BigEarthTests\\SmallerSubset\\S2A_MSIL2A_20170613T101031_N9999_R022_T34VER\\S2A_MSIL2A_20170613T101031_N9999_R022_T34VER_62_51\\S2A_MSIL2A_20170613T101031_N9999_R022_T34VER_62_51\n",
      "Dest SubFolder Path:  C:\\Users\\isaac\\Desktop\\BigEarthTests\\SmallerSubset\\CombinedImages\\S2A_MSIL2A_20170613T101031_N9999_R022_T34VER\\S2A_MSIL2A_20170613T101031_N9999_R022_T34VER_62_51.tif\n"
     ]
    },
    {
     "name": "stderr",
     "output_type": "stream",
     "text": []
    },
    {
     "name": "stdout",
     "output_type": "stream",
     "text": [
      "SubFolder Path:  C:\\Users\\isaac\\Desktop\\BigEarthTests\\SmallerSubset\\S2A_MSIL2A_20170613T101031_N9999_R022_T34VER\\S2A_MSIL2A_20170613T101031_N9999_R022_T34VER_64_08\\S2A_MSIL2A_20170613T101031_N9999_R022_T34VER_64_08\n",
      "Dest SubFolder Path:  C:\\Users\\isaac\\Desktop\\BigEarthTests\\SmallerSubset\\CombinedImages\\S2A_MSIL2A_20170613T101031_N9999_R022_T34VER\\S2A_MSIL2A_20170613T101031_N9999_R022_T34VER_64_08.tif\n"
     ]
    },
    {
     "name": "stderr",
     "output_type": "stream",
     "text": []
    },
    {
     "name": "stdout",
     "output_type": "stream",
     "text": [
      "SubFolder Path:  C:\\Users\\isaac\\Desktop\\BigEarthTests\\SmallerSubset\\S2A_MSIL2A_20170613T101031_N9999_R022_T34VER\\S2A_MSIL2A_20170613T101031_N9999_R022_T34VER_64_50\\S2A_MSIL2A_20170613T101031_N9999_R022_T34VER_64_50\n",
      "Dest SubFolder Path:  C:\\Users\\isaac\\Desktop\\BigEarthTests\\SmallerSubset\\CombinedImages\\S2A_MSIL2A_20170613T101031_N9999_R022_T34VER\\S2A_MSIL2A_20170613T101031_N9999_R022_T34VER_64_50.tif\n"
     ]
    },
    {
     "name": "stderr",
     "output_type": "stream",
     "text": []
    },
    {
     "name": "stdout",
     "output_type": "stream",
     "text": [
      "SubFolder Path:  C:\\Users\\isaac\\Desktop\\BigEarthTests\\SmallerSubset\\S2A_MSIL2A_20170613T101031_N9999_R022_T34VER\\S2A_MSIL2A_20170613T101031_N9999_R022_T34VER_64_65\\S2A_MSIL2A_20170613T101031_N9999_R022_T34VER_64_65\n",
      "Dest SubFolder Path:  C:\\Users\\isaac\\Desktop\\BigEarthTests\\SmallerSubset\\CombinedImages\\S2A_MSIL2A_20170613T101031_N9999_R022_T34VER\\S2A_MSIL2A_20170613T101031_N9999_R022_T34VER_64_65.tif\n"
     ]
    },
    {
     "name": "stderr",
     "output_type": "stream",
     "text": []
    },
    {
     "name": "stdout",
     "output_type": "stream",
     "text": [
      "SubFolder Path:  C:\\Users\\isaac\\Desktop\\BigEarthTests\\SmallerSubset\\S2A_MSIL2A_20170613T101031_N9999_R022_T34VER\\S2A_MSIL2A_20170613T101031_N9999_R022_T34VER_65_77\\S2A_MSIL2A_20170613T101031_N9999_R022_T34VER_65_77\n",
      "Dest SubFolder Path:  C:\\Users\\isaac\\Desktop\\BigEarthTests\\SmallerSubset\\CombinedImages\\S2A_MSIL2A_20170613T101031_N9999_R022_T34VER\\S2A_MSIL2A_20170613T101031_N9999_R022_T34VER_65_77.tif\n"
     ]
    },
    {
     "name": "stderr",
     "output_type": "stream",
     "text": []
    },
    {
     "name": "stdout",
     "output_type": "stream",
     "text": [
      "SubFolder Path:  C:\\Users\\isaac\\Desktop\\BigEarthTests\\SmallerSubset\\S2A_MSIL2A_20170613T101031_N9999_R022_T34VER\\S2A_MSIL2A_20170613T101031_N9999_R022_T34VER_66_71\\S2A_MSIL2A_20170613T101031_N9999_R022_T34VER_66_71\n",
      "Dest SubFolder Path:  C:\\Users\\isaac\\Desktop\\BigEarthTests\\SmallerSubset\\CombinedImages\\S2A_MSIL2A_20170613T101031_N9999_R022_T34VER\\S2A_MSIL2A_20170613T101031_N9999_R022_T34VER_66_71.tif\n"
     ]
    },
    {
     "name": "stderr",
     "output_type": "stream",
     "text": []
    },
    {
     "name": "stdout",
     "output_type": "stream",
     "text": [
      "SubFolder Path:  C:\\Users\\isaac\\Desktop\\BigEarthTests\\SmallerSubset\\S2A_MSIL2A_20170613T101031_N9999_R022_T34VER\\S2A_MSIL2A_20170613T101031_N9999_R022_T34VER_66_89\\S2A_MSIL2A_20170613T101031_N9999_R022_T34VER_66_89\n",
      "Dest SubFolder Path:  C:\\Users\\isaac\\Desktop\\BigEarthTests\\SmallerSubset\\CombinedImages\\S2A_MSIL2A_20170613T101031_N9999_R022_T34VER\\S2A_MSIL2A_20170613T101031_N9999_R022_T34VER_66_89.tif\n"
     ]
    },
    {
     "name": "stderr",
     "output_type": "stream",
     "text": []
    },
    {
     "name": "stdout",
     "output_type": "stream",
     "text": [
      "SubFolder Path:  C:\\Users\\isaac\\Desktop\\BigEarthTests\\SmallerSubset\\S2A_MSIL2A_20170613T101031_N9999_R022_T34VER\\S2A_MSIL2A_20170613T101031_N9999_R022_T34VER_67_15\\S2A_MSIL2A_20170613T101031_N9999_R022_T34VER_67_15\n",
      "Dest SubFolder Path:  C:\\Users\\isaac\\Desktop\\BigEarthTests\\SmallerSubset\\CombinedImages\\S2A_MSIL2A_20170613T101031_N9999_R022_T34VER\\S2A_MSIL2A_20170613T101031_N9999_R022_T34VER_67_15.tif\n"
     ]
    },
    {
     "name": "stderr",
     "output_type": "stream",
     "text": []
    },
    {
     "name": "stdout",
     "output_type": "stream",
     "text": [
      "SubFolder Path:  C:\\Users\\isaac\\Desktop\\BigEarthTests\\SmallerSubset\\S2A_MSIL2A_20170613T101031_N9999_R022_T34VER\\S2A_MSIL2A_20170613T101031_N9999_R022_T34VER_69_23\\S2A_MSIL2A_20170613T101031_N9999_R022_T34VER_69_23\n",
      "Dest SubFolder Path:  C:\\Users\\isaac\\Desktop\\BigEarthTests\\SmallerSubset\\CombinedImages\\S2A_MSIL2A_20170613T101031_N9999_R022_T34VER\\S2A_MSIL2A_20170613T101031_N9999_R022_T34VER_69_23.tif\n"
     ]
    },
    {
     "name": "stderr",
     "output_type": "stream",
     "text": []
    },
    {
     "name": "stdout",
     "output_type": "stream",
     "text": [
      "SubFolder Path:  C:\\Users\\isaac\\Desktop\\BigEarthTests\\SmallerSubset\\S2A_MSIL2A_20170613T101031_N9999_R022_T34VER\\S2A_MSIL2A_20170613T101031_N9999_R022_T34VER_71_82\\S2A_MSIL2A_20170613T101031_N9999_R022_T34VER_71_82\n",
      "Dest SubFolder Path:  C:\\Users\\isaac\\Desktop\\BigEarthTests\\SmallerSubset\\CombinedImages\\S2A_MSIL2A_20170613T101031_N9999_R022_T34VER\\S2A_MSIL2A_20170613T101031_N9999_R022_T34VER_71_82.tif\n"
     ]
    },
    {
     "name": "stderr",
     "output_type": "stream",
     "text": []
    },
    {
     "name": "stdout",
     "output_type": "stream",
     "text": [
      "SubFolder Path:  C:\\Users\\isaac\\Desktop\\BigEarthTests\\SmallerSubset\\S2A_MSIL2A_20170613T101031_N9999_R022_T34VER\\S2A_MSIL2A_20170613T101031_N9999_R022_T34VER_71_89\\S2A_MSIL2A_20170613T101031_N9999_R022_T34VER_71_89\n",
      "Dest SubFolder Path:  C:\\Users\\isaac\\Desktop\\BigEarthTests\\SmallerSubset\\CombinedImages\\S2A_MSIL2A_20170613T101031_N9999_R022_T34VER\\S2A_MSIL2A_20170613T101031_N9999_R022_T34VER_71_89.tif\n"
     ]
    },
    {
     "name": "stderr",
     "output_type": "stream",
     "text": []
    },
    {
     "name": "stdout",
     "output_type": "stream",
     "text": [
      "SubFolder Path:  C:\\Users\\isaac\\Desktop\\BigEarthTests\\SmallerSubset\\S2A_MSIL2A_20170613T101031_N9999_R022_T34VER\\S2A_MSIL2A_20170613T101031_N9999_R022_T34VER_72_69\\S2A_MSIL2A_20170613T101031_N9999_R022_T34VER_72_69\n",
      "Dest SubFolder Path:  C:\\Users\\isaac\\Desktop\\BigEarthTests\\SmallerSubset\\CombinedImages\\S2A_MSIL2A_20170613T101031_N9999_R022_T34VER\\S2A_MSIL2A_20170613T101031_N9999_R022_T34VER_72_69.tif\n"
     ]
    },
    {
     "name": "stderr",
     "output_type": "stream",
     "text": []
    },
    {
     "name": "stdout",
     "output_type": "stream",
     "text": [
      "SubFolder Path:  C:\\Users\\isaac\\Desktop\\BigEarthTests\\SmallerSubset\\S2A_MSIL2A_20170613T101031_N9999_R022_T34VER\\S2A_MSIL2A_20170613T101031_N9999_R022_T34VER_73_00\\S2A_MSIL2A_20170613T101031_N9999_R022_T34VER_73_00\n",
      "Dest SubFolder Path:  C:\\Users\\isaac\\Desktop\\BigEarthTests\\SmallerSubset\\CombinedImages\\S2A_MSIL2A_20170613T101031_N9999_R022_T34VER\\S2A_MSIL2A_20170613T101031_N9999_R022_T34VER_73_00.tif\n"
     ]
    },
    {
     "name": "stderr",
     "output_type": "stream",
     "text": []
    },
    {
     "name": "stdout",
     "output_type": "stream",
     "text": [
      "SubFolder Path:  C:\\Users\\isaac\\Desktop\\BigEarthTests\\SmallerSubset\\S2A_MSIL2A_20170613T101031_N9999_R022_T34VER\\S2A_MSIL2A_20170613T101031_N9999_R022_T34VER_73_35\\S2A_MSIL2A_20170613T101031_N9999_R022_T34VER_73_35\n",
      "Dest SubFolder Path:  C:\\Users\\isaac\\Desktop\\BigEarthTests\\SmallerSubset\\CombinedImages\\S2A_MSIL2A_20170613T101031_N9999_R022_T34VER\\S2A_MSIL2A_20170613T101031_N9999_R022_T34VER_73_35.tif\n"
     ]
    },
    {
     "name": "stderr",
     "output_type": "stream",
     "text": []
    },
    {
     "name": "stdout",
     "output_type": "stream",
     "text": [
      "SubFolder Path:  C:\\Users\\isaac\\Desktop\\BigEarthTests\\SmallerSubset\\S2A_MSIL2A_20170613T101031_N9999_R022_T34VER\\S2A_MSIL2A_20170613T101031_N9999_R022_T34VER_74_60\\S2A_MSIL2A_20170613T101031_N9999_R022_T34VER_74_60\n",
      "Dest SubFolder Path:  C:\\Users\\isaac\\Desktop\\BigEarthTests\\SmallerSubset\\CombinedImages\\S2A_MSIL2A_20170613T101031_N9999_R022_T34VER\\S2A_MSIL2A_20170613T101031_N9999_R022_T34VER_74_60.tif\n"
     ]
    },
    {
     "name": "stderr",
     "output_type": "stream",
     "text": []
    },
    {
     "name": "stdout",
     "output_type": "stream",
     "text": [
      "SubFolder Path:  C:\\Users\\isaac\\Desktop\\BigEarthTests\\SmallerSubset\\S2A_MSIL2A_20170613T101031_N9999_R022_T34VER\\S2A_MSIL2A_20170613T101031_N9999_R022_T34VER_75_50\\S2A_MSIL2A_20170613T101031_N9999_R022_T34VER_75_50\n",
      "Dest SubFolder Path:  C:\\Users\\isaac\\Desktop\\BigEarthTests\\SmallerSubset\\CombinedImages\\S2A_MSIL2A_20170613T101031_N9999_R022_T34VER\\S2A_MSIL2A_20170613T101031_N9999_R022_T34VER_75_50.tif\n"
     ]
    },
    {
     "name": "stderr",
     "output_type": "stream",
     "text": []
    },
    {
     "name": "stdout",
     "output_type": "stream",
     "text": [
      "SubFolder Path:  C:\\Users\\isaac\\Desktop\\BigEarthTests\\SmallerSubset\\S2A_MSIL2A_20170613T101031_N9999_R022_T34VER\\S2A_MSIL2A_20170613T101031_N9999_R022_T34VER_75_89\\S2A_MSIL2A_20170613T101031_N9999_R022_T34VER_75_89\n",
      "Dest SubFolder Path:  C:\\Users\\isaac\\Desktop\\BigEarthTests\\SmallerSubset\\CombinedImages\\S2A_MSIL2A_20170613T101031_N9999_R022_T34VER\\S2A_MSIL2A_20170613T101031_N9999_R022_T34VER_75_89.tif\n"
     ]
    },
    {
     "name": "stderr",
     "output_type": "stream",
     "text": []
    },
    {
     "name": "stdout",
     "output_type": "stream",
     "text": [
      "SubFolder Path:  C:\\Users\\isaac\\Desktop\\BigEarthTests\\SmallerSubset\\S2A_MSIL2A_20170613T101031_N9999_R022_T34VER\\S2A_MSIL2A_20170613T101031_N9999_R022_T34VER_76_02\\S2A_MSIL2A_20170613T101031_N9999_R022_T34VER_76_02\n",
      "Dest SubFolder Path:  C:\\Users\\isaac\\Desktop\\BigEarthTests\\SmallerSubset\\CombinedImages\\S2A_MSIL2A_20170613T101031_N9999_R022_T34VER\\S2A_MSIL2A_20170613T101031_N9999_R022_T34VER_76_02.tif\n"
     ]
    },
    {
     "name": "stderr",
     "output_type": "stream",
     "text": []
    },
    {
     "name": "stdout",
     "output_type": "stream",
     "text": [
      "SubFolder Path:  C:\\Users\\isaac\\Desktop\\BigEarthTests\\SmallerSubset\\S2A_MSIL2A_20170613T101031_N9999_R022_T34VER\\S2A_MSIL2A_20170613T101031_N9999_R022_T34VER_76_30\\S2A_MSIL2A_20170613T101031_N9999_R022_T34VER_76_30\n",
      "Dest SubFolder Path:  C:\\Users\\isaac\\Desktop\\BigEarthTests\\SmallerSubset\\CombinedImages\\S2A_MSIL2A_20170613T101031_N9999_R022_T34VER\\S2A_MSIL2A_20170613T101031_N9999_R022_T34VER_76_30.tif\n"
     ]
    },
    {
     "name": "stderr",
     "output_type": "stream",
     "text": []
    },
    {
     "name": "stdout",
     "output_type": "stream",
     "text": [
      "SubFolder Path:  C:\\Users\\isaac\\Desktop\\BigEarthTests\\SmallerSubset\\S2A_MSIL2A_20170613T101031_N9999_R022_T34VER\\S2A_MSIL2A_20170613T101031_N9999_R022_T34VER_78_15\\S2A_MSIL2A_20170613T101031_N9999_R022_T34VER_78_15\n",
      "Dest SubFolder Path:  C:\\Users\\isaac\\Desktop\\BigEarthTests\\SmallerSubset\\CombinedImages\\S2A_MSIL2A_20170613T101031_N9999_R022_T34VER\\S2A_MSIL2A_20170613T101031_N9999_R022_T34VER_78_15.tif\n"
     ]
    },
    {
     "name": "stderr",
     "output_type": "stream",
     "text": []
    },
    {
     "name": "stdout",
     "output_type": "stream",
     "text": [
      "SubFolder Path:  C:\\Users\\isaac\\Desktop\\BigEarthTests\\SmallerSubset\\S2A_MSIL2A_20170613T101031_N9999_R022_T34VER\\S2A_MSIL2A_20170613T101031_N9999_R022_T34VER_79_62\\S2A_MSIL2A_20170613T101031_N9999_R022_T34VER_79_62\n",
      "Dest SubFolder Path:  C:\\Users\\isaac\\Desktop\\BigEarthTests\\SmallerSubset\\CombinedImages\\S2A_MSIL2A_20170613T101031_N9999_R022_T34VER\\S2A_MSIL2A_20170613T101031_N9999_R022_T34VER_79_62.tif\n"
     ]
    },
    {
     "name": "stderr",
     "output_type": "stream",
     "text": []
    },
    {
     "name": "stdout",
     "output_type": "stream",
     "text": [
      "SubFolder Path:  C:\\Users\\isaac\\Desktop\\BigEarthTests\\SmallerSubset\\S2A_MSIL2A_20170613T101031_N9999_R022_T34VER\\S2A_MSIL2A_20170613T101031_N9999_R022_T34VER_83_16\\S2A_MSIL2A_20170613T101031_N9999_R022_T34VER_83_16\n",
      "Dest SubFolder Path:  C:\\Users\\isaac\\Desktop\\BigEarthTests\\SmallerSubset\\CombinedImages\\S2A_MSIL2A_20170613T101031_N9999_R022_T34VER\\S2A_MSIL2A_20170613T101031_N9999_R022_T34VER_83_16.tif\n"
     ]
    },
    {
     "name": "stderr",
     "output_type": "stream",
     "text": []
    },
    {
     "name": "stdout",
     "output_type": "stream",
     "text": [
      "SubFolder Path:  C:\\Users\\isaac\\Desktop\\BigEarthTests\\SmallerSubset\\S2A_MSIL2A_20170613T101031_N9999_R022_T34VER\\S2A_MSIL2A_20170613T101031_N9999_R022_T34VER_84_30\\S2A_MSIL2A_20170613T101031_N9999_R022_T34VER_84_30\n",
      "Dest SubFolder Path:  C:\\Users\\isaac\\Desktop\\BigEarthTests\\SmallerSubset\\CombinedImages\\S2A_MSIL2A_20170613T101031_N9999_R022_T34VER\\S2A_MSIL2A_20170613T101031_N9999_R022_T34VER_84_30.tif\n"
     ]
    },
    {
     "name": "stderr",
     "output_type": "stream",
     "text": []
    },
    {
     "name": "stdout",
     "output_type": "stream",
     "text": [
      "SubFolder Path:  C:\\Users\\isaac\\Desktop\\BigEarthTests\\SmallerSubset\\S2A_MSIL2A_20170613T101031_N9999_R022_T34VER\\S2A_MSIL2A_20170613T101031_N9999_R022_T34VER_85_27\\S2A_MSIL2A_20170613T101031_N9999_R022_T34VER_85_27\n",
      "Dest SubFolder Path:  C:\\Users\\isaac\\Desktop\\BigEarthTests\\SmallerSubset\\CombinedImages\\S2A_MSIL2A_20170613T101031_N9999_R022_T34VER\\S2A_MSIL2A_20170613T101031_N9999_R022_T34VER_85_27.tif\n"
     ]
    },
    {
     "name": "stderr",
     "output_type": "stream",
     "text": []
    },
    {
     "name": "stdout",
     "output_type": "stream",
     "text": [
      "SubFolder Path:  C:\\Users\\isaac\\Desktop\\BigEarthTests\\SmallerSubset\\S2A_MSIL2A_20170613T101031_N9999_R022_T34VER\\S2A_MSIL2A_20170613T101031_N9999_R022_T34VER_86_06\\S2A_MSIL2A_20170613T101031_N9999_R022_T34VER_86_06\n",
      "Dest SubFolder Path:  C:\\Users\\isaac\\Desktop\\BigEarthTests\\SmallerSubset\\CombinedImages\\S2A_MSIL2A_20170613T101031_N9999_R022_T34VER\\S2A_MSIL2A_20170613T101031_N9999_R022_T34VER_86_06.tif\n"
     ]
    },
    {
     "name": "stderr",
     "output_type": "stream",
     "text": []
    },
    {
     "name": "stdout",
     "output_type": "stream",
     "text": [
      "SubFolder Path:  C:\\Users\\isaac\\Desktop\\BigEarthTests\\SmallerSubset\\S2A_MSIL2A_20170613T101031_N9999_R022_T34VER\\S2A_MSIL2A_20170613T101031_N9999_R022_T34VER_86_21\\S2A_MSIL2A_20170613T101031_N9999_R022_T34VER_86_21\n",
      "Dest SubFolder Path:  C:\\Users\\isaac\\Desktop\\BigEarthTests\\SmallerSubset\\CombinedImages\\S2A_MSIL2A_20170613T101031_N9999_R022_T34VER\\S2A_MSIL2A_20170613T101031_N9999_R022_T34VER_86_21.tif\n"
     ]
    },
    {
     "name": "stderr",
     "output_type": "stream",
     "text": []
    },
    {
     "name": "stdout",
     "output_type": "stream",
     "text": [
      "SubFolder Path:  C:\\Users\\isaac\\Desktop\\BigEarthTests\\SmallerSubset\\S2A_MSIL2A_20170613T101031_N9999_R022_T34VER\\S2A_MSIL2A_20170613T101031_N9999_R022_T34VER_86_57\\S2A_MSIL2A_20170613T101031_N9999_R022_T34VER_86_57\n",
      "Dest SubFolder Path:  C:\\Users\\isaac\\Desktop\\BigEarthTests\\SmallerSubset\\CombinedImages\\S2A_MSIL2A_20170613T101031_N9999_R022_T34VER\\S2A_MSIL2A_20170613T101031_N9999_R022_T34VER_86_57.tif\n"
     ]
    },
    {
     "name": "stderr",
     "output_type": "stream",
     "text": []
    },
    {
     "name": "stdout",
     "output_type": "stream",
     "text": [
      "SubFolder Path:  C:\\Users\\isaac\\Desktop\\BigEarthTests\\SmallerSubset\\S2A_MSIL2A_20170613T101031_N9999_R022_T34VER\\S2A_MSIL2A_20170613T101031_N9999_R022_T34VER_87_11\\S2A_MSIL2A_20170613T101031_N9999_R022_T34VER_87_11\n",
      "Dest SubFolder Path:  C:\\Users\\isaac\\Desktop\\BigEarthTests\\SmallerSubset\\CombinedImages\\S2A_MSIL2A_20170613T101031_N9999_R022_T34VER\\S2A_MSIL2A_20170613T101031_N9999_R022_T34VER_87_11.tif\n"
     ]
    },
    {
     "name": "stderr",
     "output_type": "stream",
     "text": []
    },
    {
     "name": "stdout",
     "output_type": "stream",
     "text": [
      "SubFolder Path:  C:\\Users\\isaac\\Desktop\\BigEarthTests\\SmallerSubset\\S2A_MSIL2A_20170613T101031_N9999_R022_T34VER\\S2A_MSIL2A_20170613T101031_N9999_R022_T34VER_88_19\\S2A_MSIL2A_20170613T101031_N9999_R022_T34VER_88_19\n",
      "Dest SubFolder Path:  C:\\Users\\isaac\\Desktop\\BigEarthTests\\SmallerSubset\\CombinedImages\\S2A_MSIL2A_20170613T101031_N9999_R022_T34VER\\S2A_MSIL2A_20170613T101031_N9999_R022_T34VER_88_19.tif\n"
     ]
    },
    {
     "name": "stderr",
     "output_type": "stream",
     "text": []
    },
    {
     "name": "stdout",
     "output_type": "stream",
     "text": [
      "SubFolder Path:  C:\\Users\\isaac\\Desktop\\BigEarthTests\\SmallerSubset\\S2A_MSIL2A_20170613T101031_N9999_R022_T34VER\\S2A_MSIL2A_20170613T101031_N9999_R022_T34VER_88_78\\S2A_MSIL2A_20170613T101031_N9999_R022_T34VER_88_78\n",
      "Dest SubFolder Path:  C:\\Users\\isaac\\Desktop\\BigEarthTests\\SmallerSubset\\CombinedImages\\S2A_MSIL2A_20170613T101031_N9999_R022_T34VER\\S2A_MSIL2A_20170613T101031_N9999_R022_T34VER_88_78.tif\n"
     ]
    },
    {
     "name": "stderr",
     "output_type": "stream",
     "text": []
    },
    {
     "name": "stdout",
     "output_type": "stream",
     "text": [
      "SubFolder Path:  C:\\Users\\isaac\\Desktop\\BigEarthTests\\SmallerSubset\\S2A_MSIL2A_20170613T101031_N9999_R022_T34VER\\S2A_MSIL2A_20170613T101031_N9999_R022_T34VER_89_59\\S2A_MSIL2A_20170613T101031_N9999_R022_T34VER_89_59\n",
      "Dest SubFolder Path:  C:\\Users\\isaac\\Desktop\\BigEarthTests\\SmallerSubset\\CombinedImages\\S2A_MSIL2A_20170613T101031_N9999_R022_T34VER\\S2A_MSIL2A_20170613T101031_N9999_R022_T34VER_89_59.tif\n"
     ]
    },
    {
     "name": "stderr",
     "output_type": "stream",
     "text": [
      "Processing folders: 100%|██████████| 2/2 [01:23<00:00, 41.77s/it]\n"
     ]
    }
   ],
   "source": [
    "folders = [folder for folder in os.listdir(source_dir) if folder != \"CombinedImages\"]\n",
    "\n",
    "for folder in tqdm(folders, desc=\"Processing folders\"):\n",
    "    folder_path = os.path.join(source_dir, folder)\n",
    "    dest_folder_path = os.path.join(destination_dir, folder)\n",
    "    if not os.path.exists(dest_folder_path):\n",
    "        os.makedirs(dest_folder_path)\n",
    "\n",
    "    subfolders = os.listdir(folder_path)\n",
    "    for subfolder in tqdm(subfolders, desc=f\"Processing subfolders in {folder}\", leave=False):\n",
    "        subfolder_path = os.path.join(folder_path, subfolder, subfolder)\n",
    "        dest_subfolder_path = os.path.join(dest_folder_path, f\"{subfolder}.tif\")\n",
    "        print(\"SubFolder Path: \", subfolder_path)\n",
    "        print(\"Dest SubFolder Path: \", dest_subfolder_path)\n",
    "        combine_tifs_to_single_file(subfolder_path, dest_subfolder_path)"
   ]
  },
  {
   "cell_type": "code",
   "execution_count": 62,
   "id": "5a64e146-5af9-4d95-a890-d53c65a5953f",
   "metadata": {},
   "outputs": [
    {
     "name": "stdout",
     "output_type": "stream",
     "text": [
      "Metadata:\n",
      "Driver: GTiff\n",
      "Width: 120\n",
      "Height: 120\n",
      "Count (Bands): 12\n",
      "Data Type: uint16\n",
      "CRS: EPSG:32633\n",
      "Transform: | 10.00, 0.00, 334800.00|\n",
      "| 0.00,-10.00, 5329200.00|\n",
      "| 0.00, 0.00, 1.00|\n"
     ]
    },
    {
     "data": {
      "image/png": "[encoded data removed]",
      "text/plain": [
       "<Figure size 500x500 with 1 Axes>"
      ]
     },
     "metadata": {},
     "output_type": "display_data"
    }
   ],
   "source": [
    "def display_combined_image(tif_path):\n",
    "    \"\"\"Display the combined multi-band TIFF image and its metadata.\"\"\"\n",
    "    with rasterio.open(tif_path) as src:\n",
    "        # Read all bands\n",
    "        bands = [src.read(i + 1) for i in range(src.count)]  # Bands are 1-indexed in rasterio\n",
    "        # Normalize bands for display\n",
    "        bands = [band / band.max() for band in bands]  # Normalize each band to 0-1 for visualization\n",
    "\n",
    "        # Get metadata\n",
    "        metadata = src.meta\n",
    "        print(\"Metadata:\")\n",
    "        print(f\"Driver: {metadata['driver']}\")\n",
    "        print(f\"Width: {metadata['width']}\")\n",
    "        print(f\"Height: {metadata['height']}\")\n",
    "        print(f\"Count (Bands): {metadata['count']}\")\n",
    "        print(f\"Data Type: {metadata['dtype']}\")\n",
    "        print(f\"CRS: {metadata['crs']}\")\n",
    "        print(f\"Transform: {metadata['transform']}\")\n",
    "        \n",
    "    # Plot the first three bands as an RGB image\n",
    "    plt.figure(figsize=(5, 5))\n",
    "    plt.subplot(1, 1, 1)\n",
    "    plt.imshow(np.dstack(bands[:3]), aspect='auto')  # Stack the first three bands for RGB\n",
    "    plt.title('Combined Multi-Band Image (First 3 Bands as RGB)')\n",
    "    plt.axis('off')  # Hide axes\n",
    "    plt.show()\n",
    "\n",
    "# Example usage\n",
    "output_path = r\"C:\\Users\\isaac\\Desktop\\BigEarthTests\\SmallerSubset\\CombinedImages\\S2A_MSIL2A_20170613T101031_N9999_R022_T33UUP\\S2A_MSIL2A_20170613T101031_N9999_R022_T33UUP_29_59.tif\"\n",
    "display_combined_image(output_path)"
   ]
  },
  {
   "cell_type": "code",
   "execution_count": 63,
   "id": "60bf20bf-724d-4340-8fe1-b9d9a69431b9",
   "metadata": {},
   "outputs": [
    {
     "data": {
      "image/png": "[encoded data removed]",
      "text/plain": [
       "<Figure size 500x500 with 1 Axes>"
      ]
     },
     "metadata": {},
     "output_type": "display_data"
    }
   ],
   "source": [
    "def display_rgb_image(tif_path):\n",
    "    with rasterio.open(tif_path) as src:\n",
    "        # Read the bands for Red, Green, and Blue (B04, B03, B02)\n",
    "        red_band = src.read(4)   # Assuming B04 is the 4th band\n",
    "        green_band = src.read(3)  # Assuming B03 is the 3rd band\n",
    "        blue_band = src.read(2)   # Assuming B02 is the 2nd band\n",
    "        \n",
    "        # Normalize RGB bands for display\n",
    "        red_band = red_band / red_band.max()  # Normalize the red band\n",
    "        green_band = green_band / green_band.max()  # Normalize the green band\n",
    "        blue_band = blue_band / blue_band.max()  # Normalize the blue band\n",
    "\n",
    "    # Stack the RGB bands for visualization\n",
    "    rgb_image = np.dstack((red_band, green_band, blue_band))  # Shape: (height, width, 3)\n",
    "\n",
    "    # Plot the RGB image\n",
    "    plt.figure(figsize=(5, 5))\n",
    "    plt.imshow(rgb_image)\n",
    "    plt.title('RGB Image')\n",
    "    plt.axis('off')  # Hide axes\n",
    "    plt.show()\n",
    "\n",
    "# Example usage\n",
    "output_path = r\"C:\\Users\\isaac\\Desktop\\BigEarthTests\\SmallerSubset\\CombinedImages\\S2A_MSIL2A_20170613T101031_N9999_R022_T33UUP\\S2A_MSIL2A_20170613T101031_N9999_R022_T33UUP_29_59.tif\"\n",
    "display_rgb_image(output_path)"
   ]
  },
  {
   "cell_type": "code",
   "execution_count": null,
   "id": "413a2ab2-17be-4651-945d-251e6d1c6f29",
   "metadata": {},
   "outputs": [],
   "source": []
  }
 ],
 "metadata": {
  "kernelspec": {
   "display_name": "Python 3 (ipykernel)",
   "language": "python",
   "name": "python3"
  },
  "language_info": {
   "codemirror_mode": {
    "name": "ipython",
    "version": 3
   },
   "file_extension": ".py",
   "mimetype": "text/x-python",
   "name": "python",
   "nbconvert_exporter": "python",
   "pygments_lexer": "ipython3",
   "version": "3.11.10"
  }
 },
 "nbformat": 4,
 "nbformat_minor": 5
}
